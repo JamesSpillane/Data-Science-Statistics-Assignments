{
 "cells": [
  {
   "cell_type": "markdown",
   "metadata": {},
   "source": [
    "# Geometric Foundations of Data Analysis Assignment - James Spillane"
   ]
  },
  {
   "cell_type": "markdown",
   "metadata": {},
   "source": [
    "## 1.1"
   ]
  },
  {
   "cell_type": "markdown",
   "metadata": {},
   "source": [
    "### Importing Data"
   ]
  },
  {
   "cell_type": "code",
   "execution_count": 1,
   "metadata": {
    "scrolled": true
   },
   "outputs": [],
   "source": [
    "#import x data\n",
    "xs = []\n",
    "with open('CS4102_Assignment(1)-Xs.txt') as f:\n",
    "    for line in f:\n",
    "        xs.append(float(line.strip().replace(',','=').split('=')[1]))"
   ]
  },
  {
   "cell_type": "code",
   "execution_count": 2,
   "metadata": {},
   "outputs": [],
   "source": [
    "#import y data\n",
    "ys = []\n",
    "with open('CS4102_Assignment(1)-Xs.txt') as f:\n",
    "    for line in f:\n",
    "        ys.append(float(line.strip().replace(',','=').split('=')[3]))"
   ]
  },
  {
   "cell_type": "markdown",
   "metadata": {},
   "source": [
    "### Question 1"
   ]
  },
  {
   "cell_type": "markdown",
   "metadata": {},
   "source": [
    "Let's firstly ensure the data is in the right format. In this case we must convert it to a matrix which can be done using numpy."
   ]
  },
  {
   "cell_type": "code",
   "execution_count": 55,
   "metadata": {},
   "outputs": [],
   "source": [
    "import numpy as np\n",
    "\n",
    "x_squared = [x**2 for x in xs]\n",
    "X = np.array([(1,x) for x in xs])\n",
    "X = np.insert(X, 2, x_squared, axis=1)"
   ]
  },
  {
   "cell_type": "markdown",
   "metadata": {},
   "source": [
    "According to the notes, we can compute the column vector B using the formula: $$ B = (X^t X)^{-1} X^t Y $$"
   ]
  },
  {
   "cell_type": "markdown",
   "metadata": {},
   "source": [
    "We must first prepare the matrices $X^t X$ and $X^t Y$ using numpys '@' operator for matrix multiplication and numpys 'T' method for the matrix transpose. Finally, we can use np.linalg.inv to invert the matrix and compute B."
   ]
  },
  {
   "cell_type": "code",
   "execution_count": 4,
   "metadata": {},
   "outputs": [
    {
     "data": {
      "text/plain": [
       "array([12.34270521,  5.00610241, -0.10068145])"
      ]
     },
     "execution_count": 4,
     "metadata": {},
     "output_type": "execute_result"
    }
   ],
   "source": [
    "XtX = X.T @ X\n",
    "XtY = X.T @ ys\n",
    "B = np.linalg.inv(XtX) @ XtY\n",
    "B"
   ]
  },
  {
   "cell_type": "markdown",
   "metadata": {},
   "source": [
    "The least squares model is described as: $$ \\hat{y} = 12.343 + 5.006x -0.101x^{2} $$"
   ]
  },
  {
   "cell_type": "markdown",
   "metadata": {},
   "source": [
    "### Question 2"
   ]
  },
  {
   "cell_type": "code",
   "execution_count": 6,
   "metadata": {},
   "outputs": [
    {
     "data": {
      "image/png": "[encoded data removed]",
      "text/plain": [
       "<Figure size 432x288 with 1 Axes>"
      ]
     },
     "metadata": {
      "needs_background": "light"
     },
     "output_type": "display_data"
    }
   ],
   "source": [
    "from scipy.interpolate import make_interp_spline\n",
    "import matplotlib.pyplot as plt\n",
    "\n",
    "x_s = np.array(np.linspace(min(xs), max(xs), 500))\n",
    "yhat = [12.343+5.006*x-0.101*(x**2) for x in x_s]\n",
    "\n",
    "X_Y_Spline = make_interp_spline(x_s,yhat)\n",
    "\n",
    "Y_graph = X_Y_Spline(x_s)\n",
    "\n",
    "plt.plot(xs,ys, 'o')\n",
    "plt.plot(x_s,Y_graph,color='Red')\n",
    "plt.title(\"Data v.s. fitted line\")\n",
    "plt.xlabel(\"X\")\n",
    "plt.ylabel(\"Y\")\n",
    "plt.show()"
   ]
  },
  {
   "cell_type": "markdown",
   "metadata": {},
   "source": [
    "### Question 3"
   ]
  },
  {
   "cell_type": "markdown",
   "metadata": {},
   "source": [
    "$ R^{2} $ is given in the notes by the formula: $$ 1- \\frac{SSE}{SSTO} $$ and SSE and SSTO were described as follows: $$ SSE = \\sum{(y_{i} - \\hat{y_{i}}})^{2}, SSTO = \\sum{(y_{i}-\\bar{y}})^{2}$$"
   ]
  },
  {
   "cell_type": "code",
   "execution_count": 7,
   "metadata": {},
   "outputs": [
    {
     "name": "stdout",
     "output_type": "stream",
     "text": [
      "rsquared: 0.9855162870177645\n"
     ]
    }
   ],
   "source": [
    "yhat = [12.343+5.006*x-0.101*(x**2) for x in xs]\n",
    "SSE = sum([s**2 for s in np.array(ys) - np.array(yhat)])\n",
    "SSTO = sum([x**2 for x in np.array(ys) - np.mean(ys)])\n",
    "\n",
    "rsquared = 1-(SSE/SSTO)\n",
    "print('rsquared:',rsquared)"
   ]
  },
  {
   "cell_type": "markdown",
   "metadata": {},
   "source": [
    "## 1.2"
   ]
  },
  {
   "cell_type": "markdown",
   "metadata": {},
   "source": [
    "### Question 1(a)"
   ]
  },
  {
   "cell_type": "code",
   "execution_count": 8,
   "metadata": {},
   "outputs": [],
   "source": [
    "#Load the data\n",
    "xxx1 = [7, 18, 5, 14, 11, 5, 23, 9, 16, 5]\n",
    "xxx2 = [5.11, 16.70, 3.20, 7.00, 11.00, 4.00, 22.10, 7.00, 10.60, 4.80]\n",
    "yyy = np.array([58, 152, 41, 93, 101, 38, 203, 78, 117, 44])\n",
    "\n",
    "#putting data into matrix form\n",
    "X_2 = np.array([(1,xxx1[i], xxx2[i]) for i in range(10)])"
   ]
  },
  {
   "cell_type": "code",
   "execution_count": 9,
   "metadata": {},
   "outputs": [
    {
     "data": {
      "text/plain": [
       "array([[ 1.  ,  7.  ,  5.11],\n",
       "       [ 1.  , 18.  , 16.7 ],\n",
       "       [ 1.  ,  5.  ,  3.2 ],\n",
       "       [ 1.  , 14.  ,  7.  ],\n",
       "       [ 1.  , 11.  , 11.  ],\n",
       "       [ 1.  ,  5.  ,  4.  ],\n",
       "       [ 1.  , 23.  , 22.1 ],\n",
       "       [ 1.  ,  9.  ,  7.  ],\n",
       "       [ 1.  , 16.  , 10.6 ],\n",
       "       [ 1.  ,  5.  ,  4.8 ]])"
      ]
     },
     "execution_count": 9,
     "metadata": {},
     "output_type": "execute_result"
    }
   ],
   "source": [
    "X_2"
   ]
  },
  {
   "cell_type": "markdown",
   "metadata": {},
   "source": [
    "Doing the same as we did for earlier question to find B."
   ]
  },
  {
   "cell_type": "code",
   "execution_count": 11,
   "metadata": {},
   "outputs": [
    {
     "data": {
      "text/plain": [
       "array([3.36508318, 4.06510383, 4.72071287])"
      ]
     },
     "execution_count": 11,
     "metadata": {},
     "output_type": "execute_result"
    }
   ],
   "source": [
    "XtX = X_2.T @ X_2\n",
    "XtY = X_2.T @ yyy\n",
    "B = np.linalg.inv(XtX) @ XtY\n",
    "B"
   ]
  },
  {
   "cell_type": "markdown",
   "metadata": {},
   "source": [
    "The least squares model is described as: $$ \\hat{y} = 3.365 + 4.065x_{1} +4.721x_{2} $$"
   ]
  },
  {
   "cell_type": "markdown",
   "metadata": {},
   "source": [
    "### Question 1(b)"
   ]
  },
  {
   "cell_type": "markdown",
   "metadata": {},
   "source": [
    "For the significant level $ \\alpha $, we:\n",
    "<br> -Reject $ H_{0} $ if $ F^{*} $ > $ F(1-\\alpha,p-1,n-p) $\n",
    "<br> -Cannot reject $ H_{0} $ if $ F^{*}$ $\\leq $ $ F(1-\\alpha,p-1,n-p) $ "
   ]
  },
  {
   "cell_type": "markdown",
   "metadata": {},
   "source": [
    "$$ H_{0}: \\beta_{1} = 0 $$ $$ H_{1}: \\beta_{1} \\neq0 $$"
   ]
  },
  {
   "cell_type": "markdown",
   "metadata": {},
   "source": [
    " Next, the F-test requires slightly modified quantities:\n",
    "$$ \\mathrm{MSR} = \\frac{\\mathrm{SSR}}{p-1},\\qquad, \\mathrm{MSE} = \\frac{SSE}{n-p},\\qquad, F^{*} = \\frac{\\mathrm{MSR}}{\\mathrm{MSE}} $$\n",
    "<br> Let's firstly calculate SSR and SSE. These can also be defined in matrix form as:\n",
    "\n",
    "\n",
    "\n",
    "$$\n",
    "    \\mathrm{SSR} = B^t X^t Y - n \\bar{y}^2,\\qquad\n",
    "    \\mathrm{SSE} = Y^t Y - B^t X^t Y, \\qquad,\n",
    "    \\mathrm{SSTO} = Y^t Y - n \\bar{y}^2,\n",
    "    $$"
   ]
  },
  {
   "cell_type": "code",
   "execution_count": 13,
   "metadata": {},
   "outputs": [],
   "source": [
    "Yhat = X_2 @ B\n",
    "ybar = sum(yyy)/len(yyy)\n",
    "BtXtY = B.T @ XtY\n",
    "YtY = yyy.T @ yyy\n",
    "nybar2 = len(yyy) * ybar**2"
   ]
  },
  {
   "cell_type": "code",
   "execution_count": 14,
   "metadata": {},
   "outputs": [
    {
     "name": "stdout",
     "output_type": "stream",
     "text": [
      "25720.110120239115 78.38987976088538 25798.5\n"
     ]
    }
   ],
   "source": [
    "SSR = BtXtY - nybar2\n",
    "SSE = (YtY - BtXtY)\n",
    "SSTO = SSR + SSE\n",
    "print(SSR, SSE, SSTO)"
   ]
  },
  {
   "cell_type": "code",
   "execution_count": 15,
   "metadata": {},
   "outputs": [
    {
     "data": {
      "text/plain": [
       "1148.3674384426708"
      ]
     },
     "execution_count": 15,
     "metadata": {},
     "output_type": "execute_result"
    }
   ],
   "source": [
    "n = len(X_2)\n",
    "p = len(X_2[0])\n",
    "MSR = SSR/(p-1)\n",
    "MSE = SSE/(n-p)\n",
    "Fstar = MSR/MSE\n",
    "Fstar"
   ]
  },
  {
   "cell_type": "markdown",
   "metadata": {},
   "source": [
    "Assuming that errors are independent: "
   ]
  },
  {
   "cell_type": "code",
   "execution_count": 16,
   "metadata": {},
   "outputs": [
    {
     "data": {
      "text/plain": [
       "0.3393799256299524"
      ]
     },
     "execution_count": 16,
     "metadata": {},
     "output_type": "execute_result"
    }
   ],
   "source": [
    "from scipy.stats import f\n",
    "alpha = 0.05\n",
    "f.pdf(1-alpha, p-1, n-p)"
   ]
  },
  {
   "cell_type": "code",
   "execution_count": 17,
   "metadata": {},
   "outputs": [
    {
     "data": {
      "text/plain": [
       "True"
      ]
     },
     "execution_count": 17,
     "metadata": {},
     "output_type": "execute_result"
    }
   ],
   "source": [
    "Fstar > f.pdf(1-alpha, p-1, n-p)"
   ]
  },
  {
   "cell_type": "markdown",
   "metadata": {},
   "source": [
    "As $F^{*}$ is greater than the given f value. We can reject $ H_{0} $ at significance level $ \\alpha $"
   ]
  },
  {
   "cell_type": "markdown",
   "metadata": {},
   "source": [
    "## Question 1(c)"
   ]
  },
  {
   "cell_type": "markdown",
   "metadata": {},
   "source": [
    "Theory says that if $q$ of the $\\beta_k$ are jointly estimated, the confidence intervals, with coefficient 1 - $\\alpha$ are,\n",
    "    $$\n",
    "    b_k - T \\cdot s(b_k) \\leq \\beta_k \\leq b_k + T \\cdot s(b_k),\n",
    "    $$\\\n",
    "    \"where $T = t(1 - \\frac{\\alpha}{2q}, n - p)$.\n",
    "     The value of the $T$-distribution can be found in a table, online or off-line, or again with the help of the `scipy.stats` package.\""
   ]
  },
  {
   "cell_type": "code",
   "execution_count": 34,
   "metadata": {},
   "outputs": [
    {
     "data": {
      "text/plain": [
       "array([[ 5.48786556, -0.62261872,  0.2915071 ],\n",
       "       [-0.62261872,  0.24498625, -0.23447993],\n",
       "       [ 0.2915071 , -0.23447993,  0.25768945]])"
      ]
     },
     "execution_count": 34,
     "metadata": {},
     "output_type": "execute_result"
    }
   ],
   "source": [
    "S2B = MSE * np.linalg.inv(XtX)\n",
    "S2B"
   ]
  },
  {
   "cell_type": "code",
   "execution_count": 48,
   "metadata": {},
   "outputs": [
    {
     "data": {
      "text/plain": [
       "0.22850012578377452"
      ]
     },
     "execution_count": 48,
     "metadata": {},
     "output_type": "execute_result"
    }
   ],
   "source": [
    "from scipy.stats import t\n",
    "q=2\n",
    "T = t.pdf(1-alpha/2/q, n-p)\n",
    "T"
   ]
  },
  {
   "cell_type": "markdown",
   "metadata": {},
   "source": [
    "So, when estimating $\\beta_1$ and $\\beta_2$ jointly, after extracting the values $s(b_k)$ as square roots of the diagonal values of the array `S2B`, we can find the *lower and upper bound* of the confidence intervals for the $\\beta_k$ as follows"
   ]
  },
  {
   "cell_type": "code",
   "execution_count": 44,
   "metadata": {},
   "outputs": [
    {
     "name": "stdout",
     "output_type": "stream",
     "text": [
      "( 3.9520052171434608 , 4.178202451731499 )\n"
     ]
    }
   ],
   "source": [
    "SB = np.diagonal(S2B)**0.5\n",
    "print('(',B[1] - T*SB[1],',', B[1] + T*SB[1],')')"
   ]
  },
  {
   "cell_type": "code",
   "execution_count": 45,
   "metadata": {},
   "outputs": [
    {
     "name": "stdout",
     "output_type": "stream",
     "text": [
      "( 4.604719075570606 , 4.836706667666967 )\n"
     ]
    }
   ],
   "source": [
    "print('(',B[2] - T*SB[2],',', B[2] + T*SB[2],')')"
   ]
  },
  {
   "cell_type": "markdown",
   "metadata": {},
   "source": [
    "With 95% confidence the true value of $ \\beta_{1} $ lies between 3.95 and 4.18 and the true value of $ \\beta_{2}$ lies between 4.60 and 4.84"
   ]
  },
  {
   "cell_type": "markdown",
   "metadata": {},
   "source": [
    "## Question 1(d)"
   ]
  },
  {
   "cell_type": "markdown",
   "metadata": {},
   "source": [
    "For any new individual with $X_{new} = (x_{1},....,x_{p})^{T}$, the predict mean response is: $$\\hat{Y_{new}} = X^{T}B$$ \n",
    "<br>With confidence 100(1-$\\alpha$)% the C.I. for E($Y_{new}$) is: $$[\\hat{Y_{new}}  - s(\\hat{Y_{new}})*t(1-\\alpha/2,n-p-1),  \\hat{Y_{new}}  + s(\\hat{Y_{new}})*t(1-\\alpha/2,n-p-1) ] $$ where, $$ S^{2}(Y_{new}) = X^{T}(X^{T}X)^{-1}X*MSE $$"
   ]
  },
  {
   "cell_type": "code",
   "execution_count": 35,
   "metadata": {},
   "outputs": [],
   "source": [
    "x1 = [5,6,10,14,20]\n",
    "x2 = [3.2, 4.8, 7, 10, 18]\n",
    "X = np.array([(1,x1[i], x2[i]) for i in range(5)])"
   ]
  },
  {
   "cell_type": "code",
   "execution_count": 45,
   "metadata": {},
   "outputs": [
    {
     "data": {
      "text/plain": [
       "array([ 4.99597547,  6.0762851 ,  3.50124277,  8.12451845, 10.89764096])"
      ]
     },
     "execution_count": 45,
     "metadata": {},
     "output_type": "execute_result"
    }
   ],
   "source": [
    "Yhatnew =  X @ B\n",
    "s2new = np.diagonal((X @ np.linalg.inv(XtX) @ X.T * MSE))\n",
    "s2new"
   ]
  },
  {
   "cell_type": "code",
   "execution_count": 53,
   "metadata": {},
   "outputs": [
    {
     "name": "stdout",
     "output_type": "stream",
     "text": [
      "( 38.42291453746403 39.170852550616324 )\n",
      "( 50.00270340009332 50.82755254604211 )\n",
      "( 76.74804514528203 77.3741781114759 )\n",
      "( 107.0067689258094 107.9605622361611 )\n",
      "( 169.08767036540067 170.19231275572017 )\n"
     ]
    }
   ],
   "source": [
    "for i in range(5):\n",
    "    print('(',Yhatnew[i] - math.sqrt(s2new[i])*t.pdf(1-.1/2, 5-3-1), Yhatnew[i] + math.sqrt(s2new[i])*t.pdf(1-.1/2, 5-3-1),')')"
   ]
  },
  {
   "cell_type": "markdown",
   "metadata": {},
   "source": [
    "## Question 2"
   ]
  },
  {
   "cell_type": "markdown",
   "metadata": {},
   "source": [
    "To check whether or not normal error terms are appropriate we should plot them against the actual error $\\hat{y}_{i}$, ahainst the input data $x_{i1}$, and against the input data $x_{i2}$"
   ]
  },
  {
   "cell_type": "code",
   "execution_count": 57,
   "metadata": {},
   "outputs": [
    {
     "data": {
      "text/plain": [
       "[<matplotlib.lines.Line2D at 0x1a2348b310>]"
      ]
     },
     "execution_count": 57,
     "metadata": {},
     "output_type": "execute_result"
    },
    {
     "data": {
      "image/png": "[encoded data removed]",
      "text/plain": [
       "<Figure size 432x288 with 1 Axes>"
      ]
     },
     "metadata": {
      "needs_background": "light"
     },
     "output_type": "display_data"
    }
   ],
   "source": [
    "import matplotlib.pyplot as plt\n",
    "Yhat = X_2 @ B\n",
    "E = yyy - Yhat\n",
    "plt.plot(Yhat, E, 'b.')"
   ]
  },
  {
   "cell_type": "code",
   "execution_count": 60,
   "metadata": {},
   "outputs": [
    {
     "data": {
      "text/plain": [
       "[<matplotlib.lines.Line2D at 0x1a235c6250>]"
      ]
     },
     "execution_count": 60,
     "metadata": {},
     "output_type": "execute_result"
    },
    {
     "data": {
      "image/png": "[encoded data removed]",
      "text/plain": [
       "<Figure size 432x288 with 1 Axes>"
      ]
     },
     "metadata": {
      "needs_background": "light"
     },
     "output_type": "display_data"
    }
   ],
   "source": [
    "plt.plot(X_2[:,1], E, 'go')"
   ]
  },
  {
   "cell_type": "code",
   "execution_count": 61,
   "metadata": {},
   "outputs": [
    {
     "data": {
      "text/plain": [
       "[<matplotlib.lines.Line2D at 0x1a236a3290>]"
      ]
     },
     "execution_count": 61,
     "metadata": {},
     "output_type": "execute_result"
    },
    {
     "data": {
      "image/png": "[encoded data removed]",
      "text/plain": [
       "<Figure size 432x288 with 1 Axes>"
      ]
     },
     "metadata": {
      "needs_background": "light"
     },
     "output_type": "display_data"
    }
   ],
   "source": [
    "plt.plot(X_2[:,2], E, 'r+')"
   ]
  },
  {
   "cell_type": "markdown",
   "metadata": {},
   "source": [
    "As we can see none of these plots follow a linear relationship and therefore we cannot assume that the error terms are normally distributed."
   ]
  }
 ],
 "metadata": {
  "kernelspec": {
   "display_name": "Python 3",
   "language": "python",
   "name": "python3"
  },
  "language_info": {
   "codemirror_mode": {
    "name": "ipython",
    "version": 3
   },
   "file_extension": ".py",
   "mimetype": "text/x-python",
   "name": "python",
   "nbconvert_exporter": "python",
   "pygments_lexer": "ipython3",
   "version": "3.8.8"
  }
 },
 "nbformat": 4,
 "nbformat_minor": 2
}
