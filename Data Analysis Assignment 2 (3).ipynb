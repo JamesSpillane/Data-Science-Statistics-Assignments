{
 "cells": [
  {
   "cell_type": "markdown",
   "id": "827061f0",
   "metadata": {},
   "source": [
    "# Geometric Foundations of Data Analysis Assignment 3"
   ]
  },
  {
   "cell_type": "code",
   "execution_count": 1,
   "id": "0cdf7a8c",
   "metadata": {},
   "outputs": [],
   "source": [
    "import random\n",
    "import numpy as np\n",
    "import pandas as pd"
   ]
  },
  {
   "cell_type": "markdown",
   "id": "bcc87dd0",
   "metadata": {},
   "source": [
    "# Question 1)"
   ]
  },
  {
   "cell_type": "markdown",
   "id": "207a1461",
   "metadata": {},
   "source": [
    "The single-linkeage hierarchial clustering algorithm starts with treating each observation as an individual cluster, and then iteratively merges the clusters until all the data points are merged into a single cluster. These clusters are merged based on the distance between them. In single linkeage clustering  the distance between two clusters is the minimum distance between the members of two clusters i.e. the distance between the two closest points. "
   ]
  },
  {
   "cell_type": "code",
   "execution_count": 2,
   "id": "c0182446",
   "metadata": {},
   "outputs": [
    {
     "data": {
      "text/plain": [
       "array([[ 0., 11., 10., 14., 22.],\n",
       "       [11.,  0.,  3., 13., 21.],\n",
       "       [10.,  3.,  0., 12., 20.],\n",
       "       [14., 13., 12.,  0., 16.],\n",
       "       [22., 21., 20., 16.,  0.]])"
      ]
     },
     "execution_count": 2,
     "metadata": {},
     "output_type": "execute_result"
    }
   ],
   "source": [
    "distances = [\n",
    "    [],\n",
    "    [11],\n",
    "    [10, 3],\n",
    "    [14, 13, 12],\n",
    "    [22, 21, 20, 16],\n",
    "]\n",
    "for j in range(5):\n",
    "    for i in range(j):\n",
    "        distances[i].append(distances[j][i])\n",
    "    distances[j].append(0)\n",
    "distances = np.array(distances, dtype=float)\n",
    "distances"
   ]
  },
  {
   "cell_type": "markdown",
   "id": "12a6da12",
   "metadata": {},
   "source": [
    "In order for numpy to ignore the 0's on the diagonal, we must first convert all zeros to nan values."
   ]
  },
  {
   "cell_type": "code",
   "execution_count": 3,
   "id": "4af7fd60",
   "metadata": {},
   "outputs": [
    {
     "data": {
      "text/plain": [
       "array([[nan, 11., 10., 14., 22.],\n",
       "       [11., nan,  3., 13., 21.],\n",
       "       [10.,  3., nan, 12., 20.],\n",
       "       [14., 13., 12., nan, 16.],\n",
       "       [22., 21., 20., 16., nan]])"
      ]
     },
     "execution_count": 3,
     "metadata": {},
     "output_type": "execute_result"
    }
   ],
   "source": [
    "r, c = distances.shape\n",
    "for i in range(r):\n",
    "    distances[i][i] = np.nan\n",
    "distances"
   ]
  },
  {
   "cell_type": "markdown",
   "id": "198ebc43",
   "metadata": {},
   "source": [
    "Now that this has been done, we will create a function called 'collapse' which will return the minimum value of the matrix and also returns a new matrix."
   ]
  },
  {
   "cell_type": "code",
   "execution_count": 4,
   "id": "0fe649fa",
   "metadata": {},
   "outputs": [],
   "source": [
    "def collapse(distances):\n",
    "    min_val = np.nanmin(distances)\n",
    "    i, j = np.unravel_index(np.nanargmin(distances), distances.shape)\n",
    "    mat = np.delete(distances, (i,j), axis=1)\n",
    "    new = np.min(mat[[i,j]], axis=0)\n",
    "    mat = np.delete(mat, (i,j), axis=0)\n",
    "    mat = np.append(mat, [new], axis=0)\n",
    "    new = np.append(new, [np.nan], axis=0)\n",
    "    mat = np.append(mat, new.reshape(-1, 1), axis=1)\n",
    "    return min_val, mat"
   ]
  },
  {
   "cell_type": "code",
   "execution_count": 5,
   "id": "9b3fe1aa",
   "metadata": {},
   "outputs": [
    {
     "data": {
      "text/plain": [
       "(3.0,\n",
       " array([[nan, 14., 22., 10.],\n",
       "        [14., nan, 16., 12.],\n",
       "        [22., 16., nan, 20.],\n",
       "        [10., 12., 20., nan]]))"
      ]
     },
     "execution_count": 5,
     "metadata": {},
     "output_type": "execute_result"
    }
   ],
   "source": [
    "collapse(distances)"
   ]
  },
  {
   "cell_type": "markdown",
   "id": "c77ac498",
   "metadata": {},
   "source": [
    "Now we must define our clustering algorithm. As I have explained the algorithm earlier I will not go into detail explaining it again. This clustering function will return a list of the minimum values of the matrix. "
   ]
  },
  {
   "cell_type": "code",
   "execution_count": 6,
   "id": "64f23ed1",
   "metadata": {},
   "outputs": [],
   "source": [
    "def clustering(distances):\n",
    "    L = [0.0]\n",
    "    mat = distances\n",
    "    while len(mat) > 1:\n",
    "        val, mat = collapse(mat)\n",
    "        L.append(val)\n",
    "    return L"
   ]
  },
  {
   "cell_type": "code",
   "execution_count": 7,
   "id": "764e1442",
   "metadata": {},
   "outputs": [
    {
     "data": {
      "text/plain": [
       "[0.0, 3.0, 10.0, 12.0, 16.0]"
      ]
     },
     "execution_count": 7,
     "metadata": {},
     "output_type": "execute_result"
    }
   ],
   "source": [
    "clustering(distances)"
   ]
  },
  {
   "cell_type": "markdown",
   "id": "53b3a90f",
   "metadata": {},
   "source": [
    "Now, let's define our distance function. This will calculate the distance between different points in a matrix. And also define our distance metric we will be using, which in this case is euclidean distance. "
   ]
  },
  {
   "cell_type": "code",
   "execution_count": 8,
   "id": "c7ad3f16",
   "metadata": {},
   "outputs": [],
   "source": [
    "def distances(points, dist):\n",
    "    dist = np.array([[dist(x, y) for x in points] for y in points])\n",
    "    for i in range(len(dist)):\n",
    "        dist[i][i] = np.nan\n",
    "    return dist"
   ]
  },
  {
   "cell_type": "code",
   "execution_count": 9,
   "id": "834f1edc",
   "metadata": {},
   "outputs": [],
   "source": [
    "class Distance:\n",
    "    def __init__(self, name):\n",
    "        self.name = name\n",
    "\n",
    "    def __repr__(self):\n",
    "        return self.name\n",
    "\n",
    "    def __call__(self, p, q):\n",
    "        raise NotImplementedError(f\"don't know yet how to {self}(p, q).\")\n",
    "        \n",
    "    def flatten(self, p, q):\n",
    "        p = np.array(p).flatten()\n",
    "        q = np.array(q).flatten()\n",
    "        return p - q"
   ]
  },
  {
   "cell_type": "code",
   "execution_count": 10,
   "id": "6ae2ac51",
   "metadata": {},
   "outputs": [],
   "source": [
    "class EuclideanDist(Distance):\n",
    "    def __call__(self, p, q):\n",
    "        return np.sqrt(np.sum(self.flatten(p, q)**2))"
   ]
  },
  {
   "cell_type": "markdown",
   "id": "458f1e29",
   "metadata": {},
   "source": [
    "Now that we have defined our distance metrics. We must create a function to generate clusters around a centre with a certain spread. "
   ]
  },
  {
   "cell_type": "code",
   "execution_count": 11,
   "id": "9780546c",
   "metadata": {},
   "outputs": [],
   "source": [
    "def cluster_points(centre, count, spread):\n",
    "    xx = [random.normalvariate(centre[0], spread) for _ in range(count)]\n",
    "    yy = [random.normalvariate(centre[1], spread) for _ in range(count)]\n",
    "    return xx, yy"
   ]
  },
  {
   "cell_type": "code",
   "execution_count": 12,
   "id": "0e1f6e99",
   "metadata": {},
   "outputs": [],
   "source": [
    "def random_clusters(centres, count, spread):\n",
    "    xx = []\n",
    "    yy = []\n",
    "    for c in centres:\n",
    "        pp = cluster_points(c, count, spread)\n",
    "        xx.extend(pp[0])\n",
    "        yy.extend(pp[1])\n",
    "    return xx, yy"
   ]
  },
  {
   "cell_type": "markdown",
   "id": "629530e8",
   "metadata": {},
   "source": [
    "Finally, let's combine all of these steps to perform single-linkeage hierarchial clustering. Our first step is to create an array of points from the transpose of our random clusters data. "
   ]
  },
  {
   "cell_type": "code",
   "execution_count": 13,
   "id": "380f13f3",
   "metadata": {},
   "outputs": [],
   "source": [
    "centres = [(x, y) for x in range(4) for y in range(4)]\n",
    "cc = random_clusters(centres, 10, 0.1)\n",
    "points = np.array(cc).T"
   ]
  },
  {
   "cell_type": "code",
   "execution_count": 14,
   "id": "01cb6868",
   "metadata": {},
   "outputs": [
    {
     "data": {
      "text/plain": [
       "array([[       nan, 0.23012792, 0.36092948, ..., 4.00523353, 4.27860032,\n",
       "        4.13580593],\n",
       "       [0.23012792,        nan, 0.16926805, ..., 4.13120969, 4.40046483,\n",
       "        4.24749542],\n",
       "       [0.36092948, 0.16926805,        nan, ..., 4.0854663 , 4.35087303,\n",
       "        4.18996382],\n",
       "       ...,\n",
       "       [4.00523353, 4.13120969, 4.0854663 , ...,        nan, 0.28563014,\n",
       "        0.32386192],\n",
       "       [4.27860032, 4.40046483, 4.35087303, ..., 0.28563014,        nan,\n",
       "        0.26414941],\n",
       "       [4.13580593, 4.24749542, 4.18996382, ..., 0.32386192, 0.26414941,\n",
       "               nan]])"
      ]
     },
     "execution_count": 14,
     "metadata": {},
     "output_type": "execute_result"
    }
   ],
   "source": [
    "e = EuclideanDist(\"e\")\n",
    "dd = distances(points, e)\n",
    "dd"
   ]
  },
  {
   "cell_type": "code",
   "execution_count": 15,
   "id": "9a0e4407",
   "metadata": {
    "scrolled": false
   },
   "outputs": [
    {
     "name": "stdout",
     "output_type": "stream",
     "text": [
      "[0.0, 0.0058111138711281415, 0.007621566140480289, 0.01154640267771858, 0.012595468427990645, 0.01310538230986719, 0.013992355075347827, 0.017511203810005205, 0.022222242681530127, 0.022745016594379653, 0.02483214270553694, 0.0249349414623103, 0.026034587441825276, 0.02610406805702015, 0.02669110463402452, 0.02696755235454008, 0.02730556975804188, 0.027445652929564437, 0.027762418962149708, 0.027828410939853, 0.029685167726331976, 0.030144529243185936, 0.03015282199477116, 0.032828814772929385, 0.03432016934981139, 0.0345496163232357, 0.034790429868234496, 0.03497678497058993, 0.03542700448020094, 0.03548674945225245, 0.03676076668943628, 0.03817747928141444, 0.03828747860676646, 0.03857348558182541, 0.038887759467210854, 0.04026763232364098, 0.04157655593658346, 0.04258049609655989, 0.042778438065673954, 0.043624852033497453, 0.04490887829298149, 0.045212390792973484, 0.045678004536571906, 0.04568573248006983, 0.047414521568551034, 0.049288122830437965, 0.049409808816981204, 0.050465462660857184, 0.052094474880355235, 0.05300239382736282, 0.053635766433368856, 0.05576014361173426, 0.05714774622113682, 0.05732425075734488, 0.05772641012152333, 0.058325238432579724, 0.06037973213610357, 0.06059349829378987, 0.060782955417691076, 0.061371499132541835, 0.0616132734753359, 0.0621026374528806, 0.06291255161334948, 0.06344006056376784, 0.06348295301648454, 0.06417723801841001, 0.06461181369117075, 0.06495808418832917, 0.06503632374738101, 0.0652072362682232, 0.06902936807001867, 0.0698621666219405, 0.07049857993857406, 0.07190014452742037, 0.07349633623515024, 0.07472132832370307, 0.07550728888263077, 0.07666786305199648, 0.07715225866848661, 0.07811624472433017, 0.0782816727037913, 0.07853319961946925, 0.07925912325420711, 0.08039932898921828, 0.08078737164700117, 0.08250931207295552, 0.08275053200915505, 0.08331716926320824, 0.08373579158269641, 0.08657309688986568, 0.08724022088386685, 0.08750444975133541, 0.08777232128468089, 0.08818335847927511, 0.08962185936618419, 0.08964598076194193, 0.08966615828295335, 0.09082503648341818, 0.0930324744977723, 0.09412764349397913, 0.09483918618251794, 0.09506032628443709, 0.096656423485942, 0.09680388429191665, 0.09812594961954102, 0.0988798721625299, 0.09943172369432964, 0.10081708739691553, 0.1063871513734287, 0.11057404828398194, 0.11132463087199367, 0.1128421082895521, 0.11594978001841869, 0.11709442814479672, 0.11819941464524106, 0.12023785960005164, 0.12061259293012545, 0.12136988849577397, 0.12226064111088482, 0.12341508832976367, 0.1247813510189228, 0.13444953457354755, 0.13482751622454442, 0.1351325764611501, 0.14399284178207675, 0.1446453445395148, 0.14777006825574543, 0.14847254516688238, 0.15082914749685988, 0.15283197962049358, 0.15522340246961994, 0.1604248592820783, 0.16052355696447354, 0.16110048794668977, 0.16747119118241896, 0.1692680493898785, 0.1755083475476745, 0.18859229781466105, 0.19491235322907588, 0.2013251430553751, 0.20915750914133993, 0.21874875835609406, 0.22379443896011, 0.22586727574213514, 0.2561757810390723, 0.47533547989726826, 0.49771881064252427, 0.5578494952280034, 0.6132146118006567, 0.6137692434080295, 0.6500610622442496, 0.65891985945633, 0.6667231553488785, 0.6767330551056511, 0.681551857137009, 0.6838429791934252, 0.689823560260699, 0.6935706342107171, 0.7187608687478227, 0.7275828830774258]\n"
     ]
    }
   ],
   "source": [
    "clu = clustering(dd)\n",
    "print(clu)"
   ]
  },
  {
   "cell_type": "markdown",
   "id": "b76cd53f",
   "metadata": {},
   "source": [
    "Now that we have our data points which have been clustered. Let's plot these to get the barcodes."
   ]
  },
  {
   "cell_type": "code",
   "execution_count": 16,
   "id": "a4df30d8",
   "metadata": {},
   "outputs": [
    {
     "data": {
      "text/plain": [
       "[<matplotlib.lines.Line2D at 0x22028491670>]"
      ]
     },
     "execution_count": 16,
     "metadata": {},
     "output_type": "execute_result"
    },
    {
     "data": {
      "image/png": "[encoded data removed]",
      "text/plain": [
       "<Figure size 432x288 with 1 Axes>"
      ]
     },
     "metadata": {
      "needs_background": "light"
     },
     "output_type": "display_data"
    }
   ],
   "source": [
    "import matplotlib.pyplot as plt\n",
    "plt.plot(clu, range(160), 'r>')"
   ]
  },
  {
   "cell_type": "markdown",
   "id": "5d8e79c8",
   "metadata": {},
   "source": [
    "## Question 2)"
   ]
  },
  {
   "cell_type": "code",
   "execution_count": 17,
   "id": "4742f435",
   "metadata": {
    "scrolled": true
   },
   "outputs": [
    {
     "data": {
      "text/plain": [
       "([-0.13173518496389666,\n",
       "  0.09480344411751104,\n",
       "  -0.021570205027177113,\n",
       "  0.11618552115951633,\n",
       "  0.1556380164112908,\n",
       "  -0.03575279345049728,\n",
       "  -0.05878288098522694,\n",
       "  0.005658092001587717,\n",
       "  0.22093128867052197,\n",
       "  -0.031164531466902547,\n",
       "  0.042421827788643715,\n",
       "  -0.03913552210238545,\n",
       "  0.07129181178616474,\n",
       "  0.09131951054534143,\n",
       "  0.11932788932173846,\n",
       "  0.10104259710273791,\n",
       "  -0.023662655013325044,\n",
       "  0.04367766757215549,\n",
       "  -0.059929619867903385,\n",
       "  0.1441995751486969,\n",
       "  0.058903443697453976,\n",
       "  0.12609716309318375,\n",
       "  -0.04679268871024508,\n",
       "  0.03677722092445889,\n",
       "  -0.08707066253026696,\n",
       "  0.00974487231345531,\n",
       "  0.023190036067522866,\n",
       "  -0.014216571865374283,\n",
       "  0.06824907107092307,\n",
       "  0.09719287230105343,\n",
       "  0.03211003779485236,\n",
       "  0.0063057076035429776,\n",
       "  -0.12995189754610564,\n",
       "  0.06594286072881925,\n",
       "  -0.15152375196806478,\n",
       "  0.16670423287983221,\n",
       "  -0.04041413044799393,\n",
       "  -0.0995796297535201,\n",
       "  0.04843153598493026,\n",
       "  0.023894415494448557,\n",
       "  0.8295086090746027,\n",
       "  0.9323566129624042,\n",
       "  1.0425516637476024,\n",
       "  1.0598520169174759,\n",
       "  0.881098751876875,\n",
       "  1.0210173241029703,\n",
       "  1.1775792685696898,\n",
       "  0.978230007948948,\n",
       "  1.005719753260411,\n",
       "  1.022710154597182,\n",
       "  0.9497370034436193,\n",
       "  0.8801469636175039,\n",
       "  1.0517449057380202,\n",
       "  0.9369405009043698,\n",
       "  0.9804188514887666,\n",
       "  0.8360331991931514,\n",
       "  0.8588471323699969,\n",
       "  0.9354186222722087,\n",
       "  1.0617655694803818,\n",
       "  0.8335628299734678,\n",
       "  0.9609904048014116,\n",
       "  0.937072638200585,\n",
       "  0.8579988063473983,\n",
       "  1.036076902460969,\n",
       "  1.1176858864044308,\n",
       "  0.95523101313945,\n",
       "  1.1027382774457317,\n",
       "  1.0443629332782645,\n",
       "  1.0522069030973558,\n",
       "  0.9433841595733556,\n",
       "  1.0353955389062728,\n",
       "  1.194795707049779,\n",
       "  0.8177861439887962,\n",
       "  1.039597336659528,\n",
       "  1.1274455422751701,\n",
       "  1.0398723093941304,\n",
       "  1.0601915340091737,\n",
       "  0.875402434218762,\n",
       "  1.1821565034532149,\n",
       "  1.1595186301380387,\n",
       "  2.077579212551023,\n",
       "  2.1388522814746143,\n",
       "  1.9962067935908143,\n",
       "  2.0577453646152377,\n",
       "  1.8431517424340145,\n",
       "  1.8716170309899456,\n",
       "  2.143544900599717,\n",
       "  1.9710200219369767,\n",
       "  1.9603741677717603,\n",
       "  2.109852895498785,\n",
       "  2.0675749509548047,\n",
       "  1.8846013137161148,\n",
       "  2.01794263920163,\n",
       "  1.8721653617457141,\n",
       "  1.936453258424912,\n",
       "  2.022382532595465,\n",
       "  2.0534163370557383,\n",
       "  1.8992120942630981,\n",
       "  1.941228786154675,\n",
       "  1.8648696012444304,\n",
       "  1.9716693822643796,\n",
       "  2.0684785906784504,\n",
       "  1.9924332307654196,\n",
       "  1.983871288151699,\n",
       "  1.973337557376892,\n",
       "  1.9185440420839193,\n",
       "  1.9265821663582698,\n",
       "  1.9766568914748257,\n",
       "  1.9925902103981532,\n",
       "  2.019665694616405,\n",
       "  1.9063453158659296,\n",
       "  2.186066838247339,\n",
       "  1.9589992883310512,\n",
       "  1.9604929463134604,\n",
       "  2.0625505147787973,\n",
       "  2.0634641008141195,\n",
       "  1.9923502695601198,\n",
       "  1.9356025358903972,\n",
       "  2.1491114291628524,\n",
       "  1.9593777056974433,\n",
       "  3.1652970930522732,\n",
       "  3.00202346844309,\n",
       "  2.905113950869293,\n",
       "  2.9994769940212644,\n",
       "  3.090780481435358,\n",
       "  2.875379408452915,\n",
       "  2.9679251962717372,\n",
       "  3.075485863522306,\n",
       "  3.1671792156936647,\n",
       "  3.0221607159527903,\n",
       "  2.9617983516993314,\n",
       "  3.0590577403177805,\n",
       "  2.943833167092878,\n",
       "  3.002517802335203,\n",
       "  2.877968670426219,\n",
       "  3.016064960053842,\n",
       "  3.0469112208469395,\n",
       "  3.031199909774451,\n",
       "  2.921221920101433,\n",
       "  2.990027385301193,\n",
       "  3.093361889943404,\n",
       "  3.1837686917208714,\n",
       "  3.0204739353967818,\n",
       "  3.1073002695001075,\n",
       "  2.9223394365960536,\n",
       "  3.0164461281719426,\n",
       "  3.0177177035549354,\n",
       "  3.119999756744951,\n",
       "  2.899091965431722,\n",
       "  3.241539813831553,\n",
       "  3.075752377135656,\n",
       "  3.0466633660506885,\n",
       "  2.7714447319869486,\n",
       "  3.0637764089247397,\n",
       "  3.0701360582016637,\n",
       "  2.955198897048791,\n",
       "  3.09055932492138,\n",
       "  2.9461697439086687,\n",
       "  2.796666105853809,\n",
       "  2.8972703054092714],\n",
       " [0.06395394475807141,\n",
       "  0.0355853833290734,\n",
       "  -0.00930374416144235,\n",
       "  0.03915440660097135,\n",
       "  0.0880434121672552,\n",
       "  -0.006231428755612747,\n",
       "  0.050239319772181316,\n",
       "  0.029834924635176674,\n",
       "  0.021893413885634552,\n",
       "  -0.11605103131138528,\n",
       "  0.8456357956009538,\n",
       "  1.0069699445215718,\n",
       "  1.0164883007865777,\n",
       "  1.0068547685020421,\n",
       "  1.0302863220855036,\n",
       "  0.9862087891536419,\n",
       "  1.1073342715458905,\n",
       "  1.1197885317778682,\n",
       "  0.9379418221542435,\n",
       "  1.1912923947017522,\n",
       "  2.0157842700253785,\n",
       "  1.8493037051151413,\n",
       "  1.9125391882267528,\n",
       "  2.160019805286615,\n",
       "  2.091967518274455,\n",
       "  2.1892222371261996,\n",
       "  2.155833194412192,\n",
       "  1.9035275529785387,\n",
       "  2.0227111319969793,\n",
       "  1.929239128382759,\n",
       "  2.8541527788576713,\n",
       "  3.2666489906605576,\n",
       "  2.8709757371186275,\n",
       "  2.901611028276208,\n",
       "  3.0166540451036603,\n",
       "  2.9335849290516993,\n",
       "  3.093849572420271,\n",
       "  2.9755443885658543,\n",
       "  3.170540181579651,\n",
       "  2.8639674899705976,\n",
       "  -0.26561113045714885,\n",
       "  0.03986278155805415,\n",
       "  -0.06396641772840496,\n",
       "  -0.09187579843939055,\n",
       "  0.0456529991094627,\n",
       "  0.09216508723092423,\n",
       "  0.005925610981740464,\n",
       "  0.28850162121938017,\n",
       "  -0.1464130009572315,\n",
       "  -0.05266229690582152,\n",
       "  0.9442077463357146,\n",
       "  0.9359607306628226,\n",
       "  1.025265196826533,\n",
       "  0.9080199683831157,\n",
       "  0.8997683561257647,\n",
       "  0.8390903633695171,\n",
       "  0.8634015269457163,\n",
       "  1.0554083615970364,\n",
       "  1.067629348951118,\n",
       "  0.9211245131981592,\n",
       "  2.1252384424504687,\n",
       "  2.0264667751749577,\n",
       "  1.802600681128373,\n",
       "  1.955544779908414,\n",
       "  1.960761827256884,\n",
       "  2.034364582696405,\n",
       "  2.116847892007575,\n",
       "  1.8785184846417775,\n",
       "  1.9239829459912428,\n",
       "  1.9273966071603221,\n",
       "  2.9725965152572225,\n",
       "  3.0003246807783555,\n",
       "  3.0366034966273014,\n",
       "  3.0423254899255947,\n",
       "  2.878558945384332,\n",
       "  2.996417868318232,\n",
       "  2.9495277021806916,\n",
       "  2.9150145685873814,\n",
       "  2.89595420153836,\n",
       "  2.9748913833622765,\n",
       "  0.19690831094587777,\n",
       "  -0.096203028686595,\n",
       "  -0.06139398102087491,\n",
       "  0.18064375907583752,\n",
       "  -0.01359888241168642,\n",
       "  -0.1035710289549444,\n",
       "  0.14424083791754755,\n",
       "  0.020689485721108652,\n",
       "  0.09471244787684203,\n",
       "  0.038314978122216084,\n",
       "  1.0964656291883432,\n",
       "  0.8275979736073072,\n",
       "  1.046977295028132,\n",
       "  0.9695208909936306,\n",
       "  1.034922769578514,\n",
       "  1.2201086754439248,\n",
       "  1.0667423904750597,\n",
       "  0.9597266746183427,\n",
       "  1.0592725002675143,\n",
       "  1.0891051250833719,\n",
       "  2.068685842156412,\n",
       "  1.956135934369919,\n",
       "  1.9440674020372677,\n",
       "  2.184775155025005,\n",
       "  2.0345282415860417,\n",
       "  2.034160072908772,\n",
       "  1.9841171808199785,\n",
       "  1.9303138768233017,\n",
       "  1.9505066763597654,\n",
       "  2.064810715172807,\n",
       "  3.0134888288369748,\n",
       "  3.075524431067037,\n",
       "  3.0063262637049566,\n",
       "  3.0743838066014693,\n",
       "  2.9373072956113986,\n",
       "  2.988688159939045,\n",
       "  2.9990450570012688,\n",
       "  3.0869744921856572,\n",
       "  2.975677591035108,\n",
       "  2.9689572386414835,\n",
       "  0.014926738867838574,\n",
       "  0.06028392092109175,\n",
       "  -0.1339179613013822,\n",
       "  -0.06863827835071643,\n",
       "  0.06958155494576095,\n",
       "  0.15455735895434097,\n",
       "  -0.049064554405308915,\n",
       "  -0.11580892005467876,\n",
       "  -0.004920247107071979,\n",
       "  0.06826230115574419,\n",
       "  1.002333854768236,\n",
       "  1.1012028966059573,\n",
       "  1.0654927745241518,\n",
       "  1.0204327208673156,\n",
       "  0.9139864826034046,\n",
       "  0.979100128759578,\n",
       "  1.0152620456240962,\n",
       "  0.8747440503252253,\n",
       "  1.1448883885517611,\n",
       "  1.0361673636941884,\n",
       "  2.0094473545287683,\n",
       "  1.8976970015070624,\n",
       "  1.926217146287898,\n",
       "  1.8545543213294782,\n",
       "  2.1388966111948946,\n",
       "  1.9881643749801912,\n",
       "  2.0121461394688525,\n",
       "  2.0276493411828334,\n",
       "  2.0965990792377527,\n",
       "  1.9510251371897105,\n",
       "  3.0490107207461463,\n",
       "  3.0410281859440786,\n",
       "  3.1813320676370727,\n",
       "  2.998470781784206,\n",
       "  2.9634419094692044,\n",
       "  3.0808979089064037,\n",
       "  3.027544525567693,\n",
       "  2.893682472337766,\n",
       "  2.9143888160623086,\n",
       "  2.7929213859933695])"
      ]
     },
     "execution_count": 17,
     "metadata": {},
     "output_type": "execute_result"
    }
   ],
   "source": [
    "random_clusters(centres,10,0.1)"
   ]
  },
  {
   "cell_type": "code",
   "execution_count": 18,
   "id": "d62bede2",
   "metadata": {},
   "outputs": [
    {
     "data": {
      "text/plain": [
       "[<matplotlib.lines.Line2D at 0x2202858c340>]"
      ]
     },
     "execution_count": 18,
     "metadata": {},
     "output_type": "execute_result"
    },
    {
     "data": {
      "image/png": "[encoded data removed]",
      "text/plain": [
       "<Figure size 432x288 with 1 Axes>"
      ]
     },
     "metadata": {
      "needs_background": "light"
     },
     "output_type": "display_data"
    }
   ],
   "source": [
    "plt.plot(*random_clusters(centres,10,0.1), 'm.')"
   ]
  },
  {
   "cell_type": "markdown",
   "id": "cc1d5121",
   "metadata": {},
   "source": [
    "# Question 3)"
   ]
  },
  {
   "cell_type": "markdown",
   "id": "3fa64bd2",
   "metadata": {},
   "source": [
    "Let's now create our taxicab distance metric. "
   ]
  },
  {
   "cell_type": "code",
   "execution_count": 19,
   "id": "f3dc2007",
   "metadata": {},
   "outputs": [],
   "source": [
    "class TaxicabDist(Distance):\n",
    "    def __call__(self, p, q):\n",
    "        return np.sum(np.abs(self.flatten(p, q))) "
   ]
  },
  {
   "cell_type": "code",
   "execution_count": 20,
   "id": "377d04c9",
   "metadata": {},
   "outputs": [],
   "source": [
    "t = TaxicabDist(\"t\")"
   ]
  },
  {
   "cell_type": "code",
   "execution_count": 21,
   "id": "ea6dc0b4",
   "metadata": {},
   "outputs": [
    {
     "data": {
      "text/plain": [
       "array([[       nan, 0.28125707, 0.50452745, ..., 5.66200365, 6.05065127,\n",
       "        5.84308716],\n",
       "       [0.28125707,        nan, 0.22327038, ..., 5.82574791, 6.21439553,\n",
       "        6.00683143],\n",
       "       [0.50452745, 0.22327038,        nan, ..., 5.7394132 , 6.12806082,\n",
       "        5.92049672],\n",
       "       ...,\n",
       "       [5.66200365, 5.82574791, 5.7394132 , ...,        nan, 0.38864762,\n",
       "        0.4206921 ],\n",
       "       [6.05065127, 6.21439553, 6.12806082, ..., 0.38864762,        nan,\n",
       "        0.31059132],\n",
       "       [5.84308716, 6.00683143, 5.92049672, ..., 0.4206921 , 0.31059132,\n",
       "               nan]])"
      ]
     },
     "execution_count": 21,
     "metadata": {},
     "output_type": "execute_result"
    }
   ],
   "source": [
    "#taxicab distances\n",
    "dd1 = distances(points, t)\n",
    "dd1"
   ]
  },
  {
   "cell_type": "code",
   "execution_count": 22,
   "id": "e8b14641",
   "metadata": {},
   "outputs": [
    {
     "data": {
      "text/plain": [
       "array([[       nan, 0.23012792, 0.36092948, ..., 4.00523353, 4.27860032,\n",
       "        4.13580593],\n",
       "       [0.23012792,        nan, 0.16926805, ..., 4.13120969, 4.40046483,\n",
       "        4.24749542],\n",
       "       [0.36092948, 0.16926805,        nan, ..., 4.0854663 , 4.35087303,\n",
       "        4.18996382],\n",
       "       ...,\n",
       "       [4.00523353, 4.13120969, 4.0854663 , ...,        nan, 0.28563014,\n",
       "        0.32386192],\n",
       "       [4.27860032, 4.40046483, 4.35087303, ..., 0.28563014,        nan,\n",
       "        0.26414941],\n",
       "       [4.13580593, 4.24749542, 4.18996382, ..., 0.32386192, 0.26414941,\n",
       "               nan]])"
      ]
     },
     "execution_count": 22,
     "metadata": {},
     "output_type": "execute_result"
    }
   ],
   "source": [
    "#euclidean distances\n",
    "dd"
   ]
  },
  {
   "cell_type": "markdown",
   "id": "91ed0bde",
   "metadata": {},
   "source": [
    "# Question 4)"
   ]
  },
  {
   "cell_type": "code",
   "execution_count": 23,
   "id": "db6f1688",
   "metadata": {},
   "outputs": [
    {
     "data": {
      "text/plain": [
       "Text(0.5, 1.0, 'Euclidean Distance')"
      ]
     },
     "execution_count": 23,
     "metadata": {},
     "output_type": "execute_result"
    },
    {
     "data": {
      "image/png": "[encoded data removed]",
      "text/plain": [
       "<Figure size 432x288 with 1 Axes>"
      ]
     },
     "metadata": {
      "needs_background": "light"
     },
     "output_type": "display_data"
    }
   ],
   "source": [
    "plt.plot(clu, range(160), 'r>')\n",
    "plt.title('Euclidean Distance')"
   ]
  },
  {
   "cell_type": "code",
   "execution_count": 24,
   "id": "cdeeea24",
   "metadata": {},
   "outputs": [
    {
     "data": {
      "text/plain": [
       "Text(0.5, 1.0, 'Taxicab Distance')"
      ]
     },
     "execution_count": 24,
     "metadata": {},
     "output_type": "execute_result"
    },
    {
     "data": {
      "image/png": "[encoded data removed]",
      "text/plain": [
       "<Figure size 432x288 with 1 Axes>"
      ]
     },
     "metadata": {
      "needs_background": "light"
     },
     "output_type": "display_data"
    }
   ],
   "source": [
    "clu1 = clustering(dd1)\n",
    "plt.plot(clu1, range(160), 'r>')\n",
    "plt.title('Taxicab Distance')"
   ]
  },
  {
   "cell_type": "code",
   "execution_count": null,
   "id": "4fb68fe6",
   "metadata": {},
   "outputs": [],
   "source": []
  }
 ],
 "metadata": {
  "kernelspec": {
   "display_name": "Python 3",
   "language": "python",
   "name": "python3"
  },
  "language_info": {
   "codemirror_mode": {
    "name": "ipython",
    "version": 3
   },
   "file_extension": ".py",
   "mimetype": "text/x-python",
   "name": "python",
   "nbconvert_exporter": "python",
   "pygments_lexer": "ipython3",
   "version": "3.8.8"
  }
 },
 "nbformat": 4,
 "nbformat_minor": 5
}
