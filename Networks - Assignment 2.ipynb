{
 "cells": [
  {
   "cell_type": "markdown",
   "metadata": {},
   "source": [
    "### CS4423 - Networks\n",
    "Angela Carnevale<br />\n",
    "School of Mathematical and Statistical Sciences<br />\n",
    "NUI Galway"
   ]
  },
  {
   "cell_type": "markdown",
   "metadata": {},
   "source": [
    "# Assignment 2"
   ]
  },
  {
   "cell_type": "markdown",
   "metadata": {},
   "source": [
    "Provide answers to the problems in the boxes provided.  \n",
    "\n",
    "The buttons at the top of the page can be used to **create\n",
    "more boxes if needed**.\n",
    "The type of box can be changed from `Code` to `Markdown`.\n",
    "`Code` boxes take (and execute) `python` code.\n",
    "`Markdown` boxes take (and format nicely) **text input**.\n",
    "In this way, you can provide answers, ask questions, \n",
    "or raise issues, in words.\n",
    "\n",
    "When finished, please print this notebook into a **pdf** file and submit this to\n",
    "**Blackboard**.\n",
    "\n",
    "**Deadline.** Thursday 3 March at 5pm. "
   ]
  },
  {
   "cell_type": "markdown",
   "metadata": {},
   "source": [
    "## Setup"
   ]
  },
  {
   "cell_type": "markdown",
   "metadata": {},
   "source": [
    "This is a `jupyter` notebook.   You can open and interact\n",
    "with the notebook through one of sites recommended at\n",
    "its [github](https://github.com/angelacarnevale/2122-CS4423-Networks) repository.\n",
    "\n",
    "Or, you can\n",
    "install and use `jupyter` as a `python` package on your own laptop or PC.  "
   ]
  },
  {
   "cell_type": "markdown",
   "metadata": {},
   "source": [
    "The following command loads the `networkx` package into the current session.  \n",
    "The next command specifies some standard options that can be useful for drawing graphs.  \n",
    "\n",
    "In order to execute the code in a box,\n",
    "use the mouse or arrow keys to highlight the box and then press SHIFT-RETURN."
   ]
  },
  {
   "cell_type": "code",
   "execution_count": 5,
   "metadata": {},
   "outputs": [],
   "source": [
    "import networkx as nx\n",
    "import pandas as pd ## can be used to visualise data arising from computing centrality measures\n",
    "from queue import Queue\n",
    "opts = { \"with_labels\": True, \"node_color\": 'y' }"
   ]
  },
  {
   "cell_type": "markdown",
   "metadata": {},
   "source": [
    "Should it ever happen that the notebook becomes unusable, start again with a fresh copy."
   ]
  },
  {
   "cell_type": "markdown",
   "metadata": {},
   "source": [
    "## 1. Breadth First Search."
   ]
  },
  {
   "cell_type": "markdown",
   "metadata": {},
   "source": [
    "Breadth First Search (BFS) is a versatile and efficient strategy for systematically visiting\n",
    "all the nodes in a graph.\n",
    "\n",
    "Given a graph $G = (X, E)$ and a starting point $x \\in X$, BFS can be described as the following sequence of steps.\n",
    "\n",
    "1. mark all nodes of $G$ as \"unseen\".\n",
    "\n",
    "2. initialize a list `seen = [x]` and mark `x` as seen.\n",
    "\n",
    "3. loop over the elements `y` in the list `seen` and, in each step, visit the\n",
    "   node `y` and add all of `y`'s neighbors that have not been marked as \"seen\"\n",
    "   to the list `seen` and mark them as seen.\n"
   ]
  },
  {
   "cell_type": "markdown",
   "metadata": {},
   "source": [
    "### For Example\n",
    "\n",
    "Consider the graph on the vertex set `\"ABCDEFGHIJ\"`\n",
    "defined in the nearby file `data/bfs.adj` by adjacency lists."
   ]
  },
  {
   "cell_type": "code",
   "execution_count": 6,
   "metadata": {},
   "outputs": [
    {
     "ename": "FileNotFoundError",
     "evalue": "[Errno 2] No such file or directory: 'bfs.adj'",
     "output_type": "error",
     "traceback": [
      "\u001b[0;31m---------------------------------------------------------------------------\u001b[0m",
      "\u001b[0;31mFileNotFoundError\u001b[0m                         Traceback (most recent call last)",
      "\u001b[0;32m<ipython-input-6-9b499aad5274>\u001b[0m in \u001b[0;36m<module>\u001b[0;34m\u001b[0m\n\u001b[0;32m----> 1\u001b[0;31m \u001b[0mG\u001b[0m \u001b[0;34m=\u001b[0m \u001b[0mnx\u001b[0m\u001b[0;34m.\u001b[0m\u001b[0mread_adjlist\u001b[0m\u001b[0;34m(\u001b[0m\u001b[0;34m\"bfs.adj\"\u001b[0m\u001b[0;34m)\u001b[0m\u001b[0;34m\u001b[0m\u001b[0;34m\u001b[0m\u001b[0m\n\u001b[0m\u001b[1;32m      2\u001b[0m \u001b[0mnx\u001b[0m\u001b[0;34m.\u001b[0m\u001b[0mdraw\u001b[0m\u001b[0;34m(\u001b[0m\u001b[0mG\u001b[0m\u001b[0;34m,\u001b[0m \u001b[0;34m**\u001b[0m\u001b[0mopts\u001b[0m\u001b[0;34m)\u001b[0m\u001b[0;34m\u001b[0m\u001b[0;34m\u001b[0m\u001b[0m\n",
      "\u001b[0;32m</opt/anaconda3/lib/python3.7/site-packages/decorator.py:decorator-gen-701>\u001b[0m in \u001b[0;36mread_adjlist\u001b[0;34m(path, comments, delimiter, create_using, nodetype, encoding)\u001b[0m\n",
      "\u001b[0;32m/opt/anaconda3/lib/python3.7/site-packages/networkx/utils/decorators.py\u001b[0m in \u001b[0;36m_open_file\u001b[0;34m(func_to_be_decorated, *args, **kwargs)\u001b[0m\n\u001b[1;32m    212\u001b[0m         \u001b[0;32mif\u001b[0m \u001b[0mis_string_like\u001b[0m\u001b[0;34m(\u001b[0m\u001b[0mpath\u001b[0m\u001b[0;34m)\u001b[0m\u001b[0;34m:\u001b[0m\u001b[0;34m\u001b[0m\u001b[0;34m\u001b[0m\u001b[0m\n\u001b[1;32m    213\u001b[0m             \u001b[0mext\u001b[0m \u001b[0;34m=\u001b[0m \u001b[0msplitext\u001b[0m\u001b[0;34m(\u001b[0m\u001b[0mpath\u001b[0m\u001b[0;34m)\u001b[0m\u001b[0;34m[\u001b[0m\u001b[0;36m1\u001b[0m\u001b[0;34m]\u001b[0m\u001b[0;34m\u001b[0m\u001b[0;34m\u001b[0m\u001b[0m\n\u001b[0;32m--> 214\u001b[0;31m             \u001b[0mfobj\u001b[0m \u001b[0;34m=\u001b[0m \u001b[0m_dispatch_dict\u001b[0m\u001b[0;34m[\u001b[0m\u001b[0mext\u001b[0m\u001b[0;34m]\u001b[0m\u001b[0;34m(\u001b[0m\u001b[0mpath\u001b[0m\u001b[0;34m,\u001b[0m \u001b[0mmode\u001b[0m\u001b[0;34m=\u001b[0m\u001b[0mmode\u001b[0m\u001b[0;34m)\u001b[0m\u001b[0;34m\u001b[0m\u001b[0;34m\u001b[0m\u001b[0m\n\u001b[0m\u001b[1;32m    215\u001b[0m             \u001b[0mclose_fobj\u001b[0m \u001b[0;34m=\u001b[0m \u001b[0;32mTrue\u001b[0m\u001b[0;34m\u001b[0m\u001b[0;34m\u001b[0m\u001b[0m\n\u001b[1;32m    216\u001b[0m         \u001b[0;32melif\u001b[0m \u001b[0mhasattr\u001b[0m\u001b[0;34m(\u001b[0m\u001b[0mpath\u001b[0m\u001b[0;34m,\u001b[0m \u001b[0;34m'read'\u001b[0m\u001b[0;34m)\u001b[0m\u001b[0;34m:\u001b[0m\u001b[0;34m\u001b[0m\u001b[0;34m\u001b[0m\u001b[0m\n",
      "\u001b[0;31mFileNotFoundError\u001b[0m: [Errno 2] No such file or directory: 'bfs.adj'"
     ]
    }
   ],
   "source": [
    "G = nx.read_adjlist(\"bfs.adj\")\n",
    "nx.draw(G, **opts)"
   ]
  },
  {
   "cell_type": "markdown",
   "metadata": {},
   "source": [
    "Let's say we want to start exploring the graph at vertex `'A'`"
   ]
  },
  {
   "cell_type": "code",
   "execution_count": null,
   "metadata": {},
   "outputs": [],
   "source": [
    "x = 'A'"
   ]
  },
  {
   "cell_type": "markdown",
   "metadata": {},
   "source": [
    "**Step 1.** For each of its nodes `x`, the graph object `G` maintains in `G.nodes[x]` a `python` dictionary\n",
    "that can be used store arbitrary attributes of the nodes.  We can use it for an attribute `'seen'`,\n",
    "which is set to `True` or `False`, depending on whether the node has already been seen by this instance \n",
    "of BFS, or not.  Initially it would be set to `False` for all nodes."
   ]
  },
  {
   "cell_type": "code",
   "execution_count": null,
   "metadata": {
    "slideshow": {
     "slide_type": "fragment"
    }
   },
   "outputs": [],
   "source": [
    "G.nodes[x]"
   ]
  },
  {
   "cell_type": "code",
   "execution_count": null,
   "metadata": {},
   "outputs": [],
   "source": [
    "for y in G:\n",
    "    G.nodes[y]['seen'] = False"
   ]
  },
  {
   "cell_type": "markdown",
   "metadata": {},
   "source": [
    "**Step 2.** Initialize a `python` list `seen` to contain `x` only, and set `x`'s `'seen'` attribute to `True`."
   ]
  },
  {
   "cell_type": "code",
   "execution_count": null,
   "metadata": {},
   "outputs": [],
   "source": [
    "seen = [x]\n",
    "G.nodes[x]['seen'] = True"
   ]
  },
  {
   "cell_type": "markdown",
   "metadata": {},
   "source": [
    "**Step 3.**  The loop over `seen`.  For each node `y` in the list, print `y`, then\n",
    "add all of `y`'s unseen neighbors to the end of the list `seen` and mark them\n",
    "as `\"seen\"`.  Note how the list `seen` initially has only one element, but grows\n",
    "over time, until no more new nodes are detected.  \n",
    "The loop automatically terminates when the end of the list `seen` has been reached."
   ]
  },
  {
   "cell_type": "code",
   "execution_count": null,
   "metadata": {},
   "outputs": [],
   "source": [
    "for y in seen:\n",
    "    print(y)\n",
    "    for z in G.neighbors(y):\n",
    "        if not G.nodes[z]['seen']:\n",
    "            seen.append(z)\n",
    "            G.nodes[z]['seen'] = True"
   ]
  },
  {
   "cell_type": "markdown",
   "metadata": {},
   "source": [
    "In a variant of the same BFS strategy, on can construct a tree on the vertex set $X$ that\n",
    "records the history of how the nodes in the graph $G$ were discovered."
   ]
  },
  {
   "cell_type": "code",
   "execution_count": null,
   "metadata": {},
   "outputs": [],
   "source": [
    "x = 'A'"
   ]
  },
  {
   "cell_type": "markdown",
   "metadata": {},
   "source": [
    "We set up an empty graph `T` to eventually contain the tree."
   ]
  },
  {
   "cell_type": "code",
   "execution_count": null,
   "metadata": {},
   "outputs": [],
   "source": [
    "T = nx.Graph()"
   ]
  },
  {
   "cell_type": "markdown",
   "metadata": {},
   "source": [
    "From here it's essentially the same procedure as above ..."
   ]
  },
  {
   "cell_type": "code",
   "execution_count": null,
   "metadata": {},
   "outputs": [],
   "source": [
    "for y in G:\n",
    "    G.nodes[y]['seen'] = False"
   ]
  },
  {
   "cell_type": "markdown",
   "metadata": {},
   "source": [
    "... except that we need to add the initial vertex `x` to `T` ..."
   ]
  },
  {
   "cell_type": "code",
   "execution_count": 3,
   "metadata": {},
   "outputs": [
    {
     "ename": "NameError",
     "evalue": "name 'T' is not defined",
     "output_type": "error",
     "traceback": [
      "\u001b[0;31m---------------------------------------------------------------------------\u001b[0m",
      "\u001b[0;31mNameError\u001b[0m                                 Traceback (most recent call last)",
      "\u001b[0;32m<ipython-input-3-3b1cfbb033cb>\u001b[0m in \u001b[0;36m<module>\u001b[0;34m\u001b[0m\n\u001b[0;32m----> 1\u001b[0;31m \u001b[0mT\u001b[0m\u001b[0;34m.\u001b[0m\u001b[0madd_node\u001b[0m\u001b[0;34m(\u001b[0m\u001b[0mx\u001b[0m\u001b[0;34m)\u001b[0m\u001b[0;34m\u001b[0m\u001b[0;34m\u001b[0m\u001b[0m\n\u001b[0m\u001b[1;32m      2\u001b[0m \u001b[0mseen\u001b[0m \u001b[0;34m=\u001b[0m \u001b[0;34m[\u001b[0m\u001b[0mx\u001b[0m\u001b[0;34m]\u001b[0m\u001b[0;34m\u001b[0m\u001b[0;34m\u001b[0m\u001b[0m\n\u001b[1;32m      3\u001b[0m \u001b[0mG\u001b[0m\u001b[0;34m.\u001b[0m\u001b[0mnodes\u001b[0m\u001b[0;34m[\u001b[0m\u001b[0mx\u001b[0m\u001b[0;34m]\u001b[0m\u001b[0;34m[\u001b[0m\u001b[0;34m'seen'\u001b[0m\u001b[0;34m]\u001b[0m \u001b[0;34m=\u001b[0m \u001b[0;32mTrue\u001b[0m\u001b[0;34m\u001b[0m\u001b[0;34m\u001b[0m\u001b[0m\n",
      "\u001b[0;31mNameError\u001b[0m: name 'T' is not defined"
     ]
    }
   ],
   "source": [
    "T.add_node(x)\n",
    "seen = [x]\n",
    "G.nodes[x]['seen'] = True"
   ]
  },
  {
   "cell_type": "markdown",
   "metadata": {},
   "source": [
    "... and instead of printing `y`, we add the edges leading to `y`'s children to the tree `T`."
   ]
  },
  {
   "cell_type": "code",
   "execution_count": 4,
   "metadata": {},
   "outputs": [
    {
     "ename": "NameError",
     "evalue": "name 'seen' is not defined",
     "output_type": "error",
     "traceback": [
      "\u001b[0;31m---------------------------------------------------------------------------\u001b[0m",
      "\u001b[0;31mNameError\u001b[0m                                 Traceback (most recent call last)",
      "\u001b[0;32m<ipython-input-4-0cd6093ccf3c>\u001b[0m in \u001b[0;36m<module>\u001b[0;34m\u001b[0m\n\u001b[0;32m----> 1\u001b[0;31m \u001b[0;32mfor\u001b[0m \u001b[0my\u001b[0m \u001b[0;32min\u001b[0m \u001b[0mseen\u001b[0m\u001b[0;34m:\u001b[0m\u001b[0;34m\u001b[0m\u001b[0;34m\u001b[0m\u001b[0m\n\u001b[0m\u001b[1;32m      2\u001b[0m     \u001b[0;32mfor\u001b[0m \u001b[0mz\u001b[0m \u001b[0;32min\u001b[0m \u001b[0mG\u001b[0m\u001b[0;34m.\u001b[0m\u001b[0mneighbors\u001b[0m\u001b[0;34m(\u001b[0m\u001b[0my\u001b[0m\u001b[0;34m)\u001b[0m\u001b[0;34m:\u001b[0m\u001b[0;34m\u001b[0m\u001b[0;34m\u001b[0m\u001b[0m\n\u001b[1;32m      3\u001b[0m         \u001b[0;32mif\u001b[0m \u001b[0;32mnot\u001b[0m \u001b[0mG\u001b[0m\u001b[0;34m.\u001b[0m\u001b[0mnodes\u001b[0m\u001b[0;34m[\u001b[0m\u001b[0mz\u001b[0m\u001b[0;34m]\u001b[0m\u001b[0;34m[\u001b[0m\u001b[0;34m'seen'\u001b[0m\u001b[0;34m]\u001b[0m\u001b[0;34m:\u001b[0m\u001b[0;34m\u001b[0m\u001b[0;34m\u001b[0m\u001b[0m\n\u001b[1;32m      4\u001b[0m             \u001b[0mT\u001b[0m\u001b[0;34m.\u001b[0m\u001b[0madd_edge\u001b[0m\u001b[0;34m(\u001b[0m\u001b[0my\u001b[0m\u001b[0;34m,\u001b[0m \u001b[0mz\u001b[0m\u001b[0;34m)\u001b[0m\u001b[0;34m\u001b[0m\u001b[0;34m\u001b[0m\u001b[0m\n\u001b[1;32m      5\u001b[0m             \u001b[0mseen\u001b[0m\u001b[0;34m.\u001b[0m\u001b[0mappend\u001b[0m\u001b[0;34m(\u001b[0m\u001b[0mz\u001b[0m\u001b[0;34m)\u001b[0m\u001b[0;34m\u001b[0m\u001b[0;34m\u001b[0m\u001b[0m\n",
      "\u001b[0;31mNameError\u001b[0m: name 'seen' is not defined"
     ]
    }
   ],
   "source": [
    "for y in seen:\n",
    "    for z in G.neighbors(y):\n",
    "        if not G.nodes[z]['seen']:\n",
    "            T.add_edge(y, z)\n",
    "            seen.append(z)\n",
    "            G.nodes[z]['seen'] = True"
   ]
  },
  {
   "cell_type": "markdown",
   "metadata": {},
   "source": [
    "The resulting tree `T` is called a **spanning tree** of the graph `G`."
   ]
  },
  {
   "cell_type": "code",
   "execution_count": 13,
   "metadata": {},
   "outputs": [
    {
     "data": {
      "image/png": "[encoded data removed]",
      "text/plain": [
       "<Figure size 432x288 with 1 Axes>"
      ]
     },
     "metadata": {},
     "output_type": "display_data"
    }
   ],
   "source": [
    "nx.draw(T, **opts)"
   ]
  },
  {
   "cell_type": "markdown",
   "metadata": {},
   "source": [
    "## Tasks"
   ]
  },
  {
   "cell_type": "markdown",
   "metadata": {},
   "source": [
    "1. Print out all the nodes of $G$ as discovered when the starting point is node `H`.\n",
    "2. Construct a spanning tree of the graph `G` with node `H` as starting point.\n",
    "3. Repeat 1 and 2 for one more starting node."
   ]
  },
  {
   "cell_type": "markdown",
   "metadata": {},
   "source": [
    "### Question 1"
   ]
  },
  {
   "cell_type": "code",
   "execution_count": 14,
   "metadata": {},
   "outputs": [
    {
     "name": "stdout",
     "output_type": "stream",
     "text": [
      "H\n",
      "D\n",
      "E\n",
      "J\n",
      "A\n",
      "G\n",
      "K\n",
      "B\n",
      "C\n",
      "I\n",
      "F\n"
     ]
    }
   ],
   "source": [
    "x = 'H'\n",
    "for y in G:\n",
    "    G.nodes[y]['seen'] = False\n",
    "seen = [x]\n",
    "G.nodes[x]['seen'] = True\n",
    "\n",
    "for y in seen:\n",
    "    print(y)\n",
    "    for z in G.neighbors(y):\n",
    "        if not G.nodes[z]['seen']:\n",
    "            seen.append(z)\n",
    "            G.nodes[z]['seen'] = True"
   ]
  },
  {
   "cell_type": "markdown",
   "metadata": {},
   "source": [
    "### Question 2"
   ]
  },
  {
   "cell_type": "code",
   "execution_count": 15,
   "metadata": {},
   "outputs": [
    {
     "data": {
      "image/png": "[encoded data removed]",
      "text/plain": [
       "<Figure size 432x288 with 1 Axes>"
      ]
     },
     "metadata": {},
     "output_type": "display_data"
    }
   ],
   "source": [
    "T = nx.Graph()\n",
    "for y in G:\n",
    "    G.nodes[y]['seen'] = False\n",
    "    \n",
    "T.add_node(x)\n",
    "seen = [x]\n",
    "G.nodes[x]['seen'] = True\n",
    "\n",
    "for y in seen:\n",
    "    for z in G.neighbors(y):\n",
    "        if not G.nodes[z]['seen']:\n",
    "            T.add_edge(y, z)\n",
    "            seen.append(z)\n",
    "            G.nodes[z]['seen'] = True\n",
    "nx.draw(T, **opts)"
   ]
  },
  {
   "cell_type": "markdown",
   "metadata": {},
   "source": [
    "### Question 3"
   ]
  },
  {
   "cell_type": "code",
   "execution_count": 16,
   "metadata": {},
   "outputs": [
    {
     "name": "stdout",
     "output_type": "stream",
     "text": [
      "F\n",
      "B\n",
      "C\n",
      "I\n",
      "A\n",
      "G\n",
      "K\n",
      "D\n",
      "E\n",
      "J\n",
      "H\n"
     ]
    }
   ],
   "source": [
    "x = 'F'\n",
    "for y in G:\n",
    "    G.nodes[y]['seen'] = False\n",
    "seen = [x]\n",
    "G.nodes[x]['seen'] = True\n",
    "\n",
    "for y in seen:\n",
    "    print(y)\n",
    "    for z in G.neighbors(y):\n",
    "        if not G.nodes[z]['seen']:\n",
    "            seen.append(z)\n",
    "            G.nodes[z]['seen'] = True"
   ]
  },
  {
   "cell_type": "code",
   "execution_count": 17,
   "metadata": {},
   "outputs": [
    {
     "data": {
      "image/png": "[encoded data removed]",
      "text/plain": [
       "<Figure size 432x288 with 1 Axes>"
      ]
     },
     "metadata": {},
     "output_type": "display_data"
    }
   ],
   "source": [
    "T = nx.Graph()\n",
    "for y in G:\n",
    "    G.nodes[y]['seen'] = False\n",
    "    \n",
    "T.add_node(x)\n",
    "seen = [x]\n",
    "G.nodes[x]['seen'] = True\n",
    "\n",
    "for y in seen:\n",
    "    for z in G.neighbors(y):\n",
    "        if not G.nodes[z]['seen']:\n",
    "            T.add_edge(y, z)\n",
    "            seen.append(z)\n",
    "            G.nodes[z]['seen'] = True\n",
    "nx.draw(T, **opts)"
   ]
  },
  {
   "cell_type": "markdown",
   "metadata": {},
   "source": [
    "... you can write your comments in this box ..."
   ]
  },
  {
   "cell_type": "markdown",
   "metadata": {},
   "source": [
    "## 2.  The Counties of Ireland."
   ]
  },
  {
   "cell_type": "markdown",
   "metadata": {},
   "source": [
    "Define a graph `I` on the $32$ counties of Ireland by\n",
    "joining two counties whenever they have a common border.\n",
    "\n",
    "A list of counties and their borders in the adjacency list format\n",
    "can be found in the nearby file `data/ireland.adj`. Please\n",
    "let me know if something doesn't look right!\n",
    "\n",
    "Remember, you can construct the graph `I` directly from the adjacency list."
   ]
  },
  {
   "cell_type": "markdown",
   "metadata": {},
   "source": [
    "## Tasks "
   ]
  },
  {
   "cell_type": "markdown",
   "metadata": {},
   "source": [
    "* What are the order and the size of the resulting graph?"
   ]
  },
  {
   "cell_type": "code",
   "execution_count": 18,
   "metadata": {},
   "outputs": [
    {
     "name": "stdout",
     "output_type": "stream",
     "text": [
      "Size: 76 Order: 32\n"
     ]
    },
    {
     "data": {
      "image/png": "[encoded data removed]",
      "text/plain": [
       "<Figure size 432x288 with 1 Axes>"
      ]
     },
     "metadata": {},
     "output_type": "display_data"
    }
   ],
   "source": [
    "G = nx.read_adjlist(\"ireland.adj\")\n",
    "nx.draw(G, **opts)\n",
    "print('Size:',G.size(),'Order:',G.order())"
   ]
  },
  {
   "cell_type": "markdown",
   "metadata": {},
   "source": [
    "... your comments here..."
   ]
  },
  {
   "cell_type": "markdown",
   "metadata": {},
   "source": [
    "* In terms of centrality measures, what are the $3$ most central counties, for\n",
    "\n",
    "    1.  degree centrality?\n",
    "    1.  eigenvector centrality?\n",
    "    1.  closeness centrality?\n",
    "    1.  betweenness centrality?\n",
    "\n",
    "Please use as many code and as many text cells as needed and make sure to respond to each point."
   ]
  },
  {
   "cell_type": "code",
   "execution_count": 28,
   "metadata": {
    "scrolled": true
   },
   "outputs": [
    {
     "data": {
      "text/html": [
       "<div>\n",
       "<style scoped>\n",
       "    .dataframe tbody tr th:only-of-type {\n",
       "        vertical-align: middle;\n",
       "    }\n",
       "\n",
       "    .dataframe tbody tr th {\n",
       "        vertical-align: top;\n",
       "    }\n",
       "\n",
       "    .dataframe thead th {\n",
       "        text-align: right;\n",
       "    }\n",
       "</style>\n",
       "<table border=\"1\" class=\"dataframe\">\n",
       "  <thead>\n",
       "    <tr style=\"text-align: right;\">\n",
       "      <th></th>\n",
       "      <th>degree</th>\n",
       "      <th>$C_i^D$</th>\n",
       "    </tr>\n",
       "  </thead>\n",
       "  <tbody>\n",
       "    <tr>\n",
       "      <th>A</th>\n",
       "      <td>4</td>\n",
       "      <td>0.571429</td>\n",
       "    </tr>\n",
       "    <tr>\n",
       "      <th>E</th>\n",
       "      <td>4</td>\n",
       "      <td>0.571429</td>\n",
       "    </tr>\n",
       "    <tr>\n",
       "      <th>F</th>\n",
       "      <td>4</td>\n",
       "      <td>0.571429</td>\n",
       "    </tr>\n",
       "    <tr>\n",
       "      <th>G</th>\n",
       "      <td>4</td>\n",
       "      <td>0.571429</td>\n",
       "    </tr>\n",
       "    <tr>\n",
       "      <th>H</th>\n",
       "      <td>4</td>\n",
       "      <td>0.571429</td>\n",
       "    </tr>\n",
       "    <tr>\n",
       "      <th>B</th>\n",
       "      <td>4</td>\n",
       "      <td>0.571429</td>\n",
       "    </tr>\n",
       "    <tr>\n",
       "      <th>C</th>\n",
       "      <td>4</td>\n",
       "      <td>0.571429</td>\n",
       "    </tr>\n",
       "    <tr>\n",
       "      <th>D</th>\n",
       "      <td>4</td>\n",
       "      <td>0.571429</td>\n",
       "    </tr>\n",
       "  </tbody>\n",
       "</table>\n",
       "</div>"
      ],
      "text/plain": [
       "   degree   $C_i^D$\n",
       "A       4  0.571429\n",
       "E       4  0.571429\n",
       "F       4  0.571429\n",
       "G       4  0.571429\n",
       "H       4  0.571429\n",
       "B       4  0.571429\n",
       "C       4  0.571429\n",
       "D       4  0.571429"
      ]
     },
     "execution_count": 28,
     "metadata": {},
     "output_type": "execute_result"
    }
   ],
   "source": [
    "#Degree Centrality\n",
    "degree_cen = nx.degree_centrality(G)\n",
    "nx.set_node_attributes(G, degree_cen, '$C_i^D$')\n",
    "\n",
    "pd.DataFrame.from_dict(\n",
    " dict(G.nodes(data=True)),\n",
    " orient='index'\n",
    ").sort_values('$C_i^D$', ascending=False)"
   ]
  },
  {
   "cell_type": "markdown",
   "metadata": {},
   "source": [
    "According to degree centrality. Tipperary, Roscommon and Offaly are the 3 most central counties. (Meath is also seen as being as central as Roscommon and Offaly)"
   ]
  },
  {
   "cell_type": "code",
   "execution_count": 20,
   "metadata": {
    "scrolled": true
   },
   "outputs": [
    {
     "data": {
      "text/html": [
       "<div>\n",
       "<style scoped>\n",
       "    .dataframe tbody tr th:only-of-type {\n",
       "        vertical-align: middle;\n",
       "    }\n",
       "\n",
       "    .dataframe tbody tr th {\n",
       "        vertical-align: top;\n",
       "    }\n",
       "\n",
       "    .dataframe thead th {\n",
       "        text-align: right;\n",
       "    }\n",
       "</style>\n",
       "<table border=\"1\" class=\"dataframe\">\n",
       "  <thead>\n",
       "    <tr style=\"text-align: right;\">\n",
       "      <th></th>\n",
       "      <th>degree</th>\n",
       "      <th>$C_i^E$</th>\n",
       "    </tr>\n",
       "  </thead>\n",
       "  <tbody>\n",
       "    <tr>\n",
       "      <th>Offaly</th>\n",
       "      <td>7</td>\n",
       "      <td>0.327506</td>\n",
       "    </tr>\n",
       "    <tr>\n",
       "      <th>Meath</th>\n",
       "      <td>7</td>\n",
       "      <td>0.289622</td>\n",
       "    </tr>\n",
       "    <tr>\n",
       "      <th>Roscommon</th>\n",
       "      <td>7</td>\n",
       "      <td>0.266327</td>\n",
       "    </tr>\n",
       "    <tr>\n",
       "      <th>Tipperary</th>\n",
       "      <td>8</td>\n",
       "      <td>0.258747</td>\n",
       "    </tr>\n",
       "    <tr>\n",
       "      <th>Cavan</th>\n",
       "      <td>6</td>\n",
       "      <td>0.250965</td>\n",
       "    </tr>\n",
       "    <tr>\n",
       "      <th>Westmeath</th>\n",
       "      <td>5</td>\n",
       "      <td>0.250843</td>\n",
       "    </tr>\n",
       "    <tr>\n",
       "      <th>Kildare</th>\n",
       "      <td>6</td>\n",
       "      <td>0.234722</td>\n",
       "    </tr>\n",
       "    <tr>\n",
       "      <th>Laois</th>\n",
       "      <td>5</td>\n",
       "      <td>0.217561</td>\n",
       "    </tr>\n",
       "    <tr>\n",
       "      <th>Monaghan</th>\n",
       "      <td>6</td>\n",
       "      <td>0.209616</td>\n",
       "    </tr>\n",
       "    <tr>\n",
       "      <th>Leitrim</th>\n",
       "      <td>6</td>\n",
       "      <td>0.209394</td>\n",
       "    </tr>\n",
       "    <tr>\n",
       "      <th>Galway</th>\n",
       "      <td>5</td>\n",
       "      <td>0.205811</td>\n",
       "    </tr>\n",
       "    <tr>\n",
       "      <th>Longford</th>\n",
       "      <td>4</td>\n",
       "      <td>0.185741</td>\n",
       "    </tr>\n",
       "    <tr>\n",
       "      <th>Fermanagh</th>\n",
       "      <td>5</td>\n",
       "      <td>0.175578</td>\n",
       "    </tr>\n",
       "    <tr>\n",
       "      <th>Kilkenny</th>\n",
       "      <td>5</td>\n",
       "      <td>0.164078</td>\n",
       "    </tr>\n",
       "    <tr>\n",
       "      <th>Carlow</th>\n",
       "      <td>5</td>\n",
       "      <td>0.159956</td>\n",
       "    </tr>\n",
       "    <tr>\n",
       "      <th>Tyrone</th>\n",
       "      <td>6</td>\n",
       "      <td>0.142125</td>\n",
       "    </tr>\n",
       "    <tr>\n",
       "      <th>Louth</th>\n",
       "      <td>4</td>\n",
       "      <td>0.128441</td>\n",
       "    </tr>\n",
       "    <tr>\n",
       "      <th>Dublin</th>\n",
       "      <td>3</td>\n",
       "      <td>0.122151</td>\n",
       "    </tr>\n",
       "    <tr>\n",
       "      <th>Waterford</th>\n",
       "      <td>4</td>\n",
       "      <td>0.120318</td>\n",
       "    </tr>\n",
       "    <tr>\n",
       "      <th>Clare</th>\n",
       "      <td>4</td>\n",
       "      <td>0.119695</td>\n",
       "    </tr>\n",
       "    <tr>\n",
       "      <th>Wicklow</th>\n",
       "      <td>4</td>\n",
       "      <td>0.118523</td>\n",
       "    </tr>\n",
       "    <tr>\n",
       "      <th>Armagh</th>\n",
       "      <td>5</td>\n",
       "      <td>0.116446</td>\n",
       "    </tr>\n",
       "    <tr>\n",
       "      <th>Donegal</th>\n",
       "      <td>4</td>\n",
       "      <td>0.111941</td>\n",
       "    </tr>\n",
       "    <tr>\n",
       "      <th>Sligo</th>\n",
       "      <td>3</td>\n",
       "      <td>0.111462</td>\n",
       "    </tr>\n",
       "    <tr>\n",
       "      <th>Mayo</th>\n",
       "      <td>3</td>\n",
       "      <td>0.110889</td>\n",
       "    </tr>\n",
       "    <tr>\n",
       "      <th>Wexford</th>\n",
       "      <td>4</td>\n",
       "      <td>0.106951</td>\n",
       "    </tr>\n",
       "    <tr>\n",
       "      <th>Cork</th>\n",
       "      <td>4</td>\n",
       "      <td>0.103450</td>\n",
       "    </tr>\n",
       "    <tr>\n",
       "      <th>Limerick</th>\n",
       "      <td>4</td>\n",
       "      <td>0.103351</td>\n",
       "    </tr>\n",
       "    <tr>\n",
       "      <th>Antrim</th>\n",
       "      <td>4</td>\n",
       "      <td>0.072372</td>\n",
       "    </tr>\n",
       "    <tr>\n",
       "      <th>Kerry</th>\n",
       "      <td>3</td>\n",
       "      <td>0.062037</td>\n",
       "    </tr>\n",
       "    <tr>\n",
       "      <th>Derry</th>\n",
       "      <td>3</td>\n",
       "      <td>0.062027</td>\n",
       "    </tr>\n",
       "    <tr>\n",
       "      <th>Down</th>\n",
       "      <td>3</td>\n",
       "      <td>0.060283</td>\n",
       "    </tr>\n",
       "  </tbody>\n",
       "</table>\n",
       "</div>"
      ],
      "text/plain": [
       "           degree   $C_i^E$\n",
       "Offaly          7  0.327506\n",
       "Meath           7  0.289622\n",
       "Roscommon       7  0.266327\n",
       "Tipperary       8  0.258747\n",
       "Cavan           6  0.250965\n",
       "Westmeath       5  0.250843\n",
       "Kildare         6  0.234722\n",
       "Laois           5  0.217561\n",
       "Monaghan        6  0.209616\n",
       "Leitrim         6  0.209394\n",
       "Galway          5  0.205811\n",
       "Longford        4  0.185741\n",
       "Fermanagh       5  0.175578\n",
       "Kilkenny        5  0.164078\n",
       "Carlow          5  0.159956\n",
       "Tyrone          6  0.142125\n",
       "Louth           4  0.128441\n",
       "Dublin          3  0.122151\n",
       "Waterford       4  0.120318\n",
       "Clare           4  0.119695\n",
       "Wicklow         4  0.118523\n",
       "Armagh          5  0.116446\n",
       "Donegal         4  0.111941\n",
       "Sligo           3  0.111462\n",
       "Mayo            3  0.110889\n",
       "Wexford         4  0.106951\n",
       "Cork            4  0.103450\n",
       "Limerick        4  0.103351\n",
       "Antrim          4  0.072372\n",
       "Kerry           3  0.062037\n",
       "Derry           3  0.062027\n",
       "Down            3  0.060283"
      ]
     },
     "execution_count": 20,
     "metadata": {},
     "output_type": "execute_result"
    }
   ],
   "source": [
    "#Eigenvector Centrality\n",
    "eigen_cen = nx.eigenvector_centrality(G)\n",
    "nx.set_node_attributes(G, eigen_cen, '$C_i^E$')\n",
    "\n",
    "pd.DataFrame.from_dict(\n",
    " dict(G.nodes(data=True)),\n",
    " orient='index'\n",
    ").sort_values('$C_i^E$', ascending=False)"
   ]
  },
  {
   "cell_type": "markdown",
   "metadata": {},
   "source": [
    "According to eigenvector centality, Offaly, Meath and Roscommon are seen as the 3 most central counties. "
   ]
  },
  {
   "cell_type": "code",
   "execution_count": 21,
   "metadata": {
    "scrolled": true
   },
   "outputs": [
    {
     "data": {
      "text/html": [
       "<div>\n",
       "<style scoped>\n",
       "    .dataframe tbody tr th:only-of-type {\n",
       "        vertical-align: middle;\n",
       "    }\n",
       "\n",
       "    .dataframe tbody tr th {\n",
       "        vertical-align: top;\n",
       "    }\n",
       "\n",
       "    .dataframe thead th {\n",
       "        text-align: right;\n",
       "    }\n",
       "</style>\n",
       "<table border=\"1\" class=\"dataframe\">\n",
       "  <thead>\n",
       "    <tr style=\"text-align: right;\">\n",
       "      <th></th>\n",
       "      <th>degree</th>\n",
       "      <th>$C_i^E$</th>\n",
       "      <th>$C_i^C$</th>\n",
       "    </tr>\n",
       "  </thead>\n",
       "  <tbody>\n",
       "    <tr>\n",
       "      <th>Offaly</th>\n",
       "      <td>7</td>\n",
       "      <td>0.327506</td>\n",
       "      <td>0.469697</td>\n",
       "    </tr>\n",
       "    <tr>\n",
       "      <th>Meath</th>\n",
       "      <td>7</td>\n",
       "      <td>0.289622</td>\n",
       "      <td>0.455882</td>\n",
       "    </tr>\n",
       "    <tr>\n",
       "      <th>Roscommon</th>\n",
       "      <td>7</td>\n",
       "      <td>0.266327</td>\n",
       "      <td>0.413333</td>\n",
       "    </tr>\n",
       "    <tr>\n",
       "      <th>Kildare</th>\n",
       "      <td>6</td>\n",
       "      <td>0.234722</td>\n",
       "      <td>0.407895</td>\n",
       "    </tr>\n",
       "    <tr>\n",
       "      <th>Westmeath</th>\n",
       "      <td>5</td>\n",
       "      <td>0.250843</td>\n",
       "      <td>0.407895</td>\n",
       "    </tr>\n",
       "    <tr>\n",
       "      <th>Galway</th>\n",
       "      <td>5</td>\n",
       "      <td>0.205811</td>\n",
       "      <td>0.402597</td>\n",
       "    </tr>\n",
       "    <tr>\n",
       "      <th>Tipperary</th>\n",
       "      <td>8</td>\n",
       "      <td>0.258747</td>\n",
       "      <td>0.397436</td>\n",
       "    </tr>\n",
       "    <tr>\n",
       "      <th>Monaghan</th>\n",
       "      <td>6</td>\n",
       "      <td>0.209616</td>\n",
       "      <td>0.387500</td>\n",
       "    </tr>\n",
       "    <tr>\n",
       "      <th>Cavan</th>\n",
       "      <td>6</td>\n",
       "      <td>0.250965</td>\n",
       "      <td>0.387500</td>\n",
       "    </tr>\n",
       "    <tr>\n",
       "      <th>Laois</th>\n",
       "      <td>5</td>\n",
       "      <td>0.217561</td>\n",
       "      <td>0.382716</td>\n",
       "    </tr>\n",
       "    <tr>\n",
       "      <th>Leitrim</th>\n",
       "      <td>6</td>\n",
       "      <td>0.209394</td>\n",
       "      <td>0.373494</td>\n",
       "    </tr>\n",
       "    <tr>\n",
       "      <th>Louth</th>\n",
       "      <td>4</td>\n",
       "      <td>0.128441</td>\n",
       "      <td>0.356322</td>\n",
       "    </tr>\n",
       "    <tr>\n",
       "      <th>Longford</th>\n",
       "      <td>4</td>\n",
       "      <td>0.185741</td>\n",
       "      <td>0.352273</td>\n",
       "    </tr>\n",
       "    <tr>\n",
       "      <th>Dublin</th>\n",
       "      <td>3</td>\n",
       "      <td>0.122151</td>\n",
       "      <td>0.348315</td>\n",
       "    </tr>\n",
       "    <tr>\n",
       "      <th>Fermanagh</th>\n",
       "      <td>5</td>\n",
       "      <td>0.175578</td>\n",
       "      <td>0.340659</td>\n",
       "    </tr>\n",
       "    <tr>\n",
       "      <th>Carlow</th>\n",
       "      <td>5</td>\n",
       "      <td>0.159956</td>\n",
       "      <td>0.333333</td>\n",
       "    </tr>\n",
       "    <tr>\n",
       "      <th>Mayo</th>\n",
       "      <td>3</td>\n",
       "      <td>0.110889</td>\n",
       "      <td>0.326316</td>\n",
       "    </tr>\n",
       "    <tr>\n",
       "      <th>Sligo</th>\n",
       "      <td>3</td>\n",
       "      <td>0.111462</td>\n",
       "      <td>0.326316</td>\n",
       "    </tr>\n",
       "    <tr>\n",
       "      <th>Clare</th>\n",
       "      <td>4</td>\n",
       "      <td>0.119695</td>\n",
       "      <td>0.322917</td>\n",
       "    </tr>\n",
       "    <tr>\n",
       "      <th>Wicklow</th>\n",
       "      <td>4</td>\n",
       "      <td>0.118523</td>\n",
       "      <td>0.319588</td>\n",
       "    </tr>\n",
       "    <tr>\n",
       "      <th>Tyrone</th>\n",
       "      <td>6</td>\n",
       "      <td>0.142125</td>\n",
       "      <td>0.319588</td>\n",
       "    </tr>\n",
       "    <tr>\n",
       "      <th>Kilkenny</th>\n",
       "      <td>5</td>\n",
       "      <td>0.164078</td>\n",
       "      <td>0.316327</td>\n",
       "    </tr>\n",
       "    <tr>\n",
       "      <th>Waterford</th>\n",
       "      <td>4</td>\n",
       "      <td>0.120318</td>\n",
       "      <td>0.313131</td>\n",
       "    </tr>\n",
       "    <tr>\n",
       "      <th>Donegal</th>\n",
       "      <td>4</td>\n",
       "      <td>0.111941</td>\n",
       "      <td>0.310000</td>\n",
       "    </tr>\n",
       "    <tr>\n",
       "      <th>Armagh</th>\n",
       "      <td>5</td>\n",
       "      <td>0.116446</td>\n",
       "      <td>0.303922</td>\n",
       "    </tr>\n",
       "    <tr>\n",
       "      <th>Cork</th>\n",
       "      <td>4</td>\n",
       "      <td>0.103450</td>\n",
       "      <td>0.303922</td>\n",
       "    </tr>\n",
       "    <tr>\n",
       "      <th>Limerick</th>\n",
       "      <td>4</td>\n",
       "      <td>0.103351</td>\n",
       "      <td>0.298077</td>\n",
       "    </tr>\n",
       "    <tr>\n",
       "      <th>Wexford</th>\n",
       "      <td>4</td>\n",
       "      <td>0.106951</td>\n",
       "      <td>0.284404</td>\n",
       "    </tr>\n",
       "    <tr>\n",
       "      <th>Down</th>\n",
       "      <td>3</td>\n",
       "      <td>0.060283</td>\n",
       "      <td>0.281818</td>\n",
       "    </tr>\n",
       "    <tr>\n",
       "      <th>Derry</th>\n",
       "      <td>3</td>\n",
       "      <td>0.062027</td>\n",
       "      <td>0.267241</td>\n",
       "    </tr>\n",
       "    <tr>\n",
       "      <th>Kerry</th>\n",
       "      <td>3</td>\n",
       "      <td>0.062037</td>\n",
       "      <td>0.258333</td>\n",
       "    </tr>\n",
       "    <tr>\n",
       "      <th>Antrim</th>\n",
       "      <td>4</td>\n",
       "      <td>0.072372</td>\n",
       "      <td>0.254098</td>\n",
       "    </tr>\n",
       "  </tbody>\n",
       "</table>\n",
       "</div>"
      ],
      "text/plain": [
       "           degree   $C_i^E$   $C_i^C$\n",
       "Offaly          7  0.327506  0.469697\n",
       "Meath           7  0.289622  0.455882\n",
       "Roscommon       7  0.266327  0.413333\n",
       "Kildare         6  0.234722  0.407895\n",
       "Westmeath       5  0.250843  0.407895\n",
       "Galway          5  0.205811  0.402597\n",
       "Tipperary       8  0.258747  0.397436\n",
       "Monaghan        6  0.209616  0.387500\n",
       "Cavan           6  0.250965  0.387500\n",
       "Laois           5  0.217561  0.382716\n",
       "Leitrim         6  0.209394  0.373494\n",
       "Louth           4  0.128441  0.356322\n",
       "Longford        4  0.185741  0.352273\n",
       "Dublin          3  0.122151  0.348315\n",
       "Fermanagh       5  0.175578  0.340659\n",
       "Carlow          5  0.159956  0.333333\n",
       "Mayo            3  0.110889  0.326316\n",
       "Sligo           3  0.111462  0.326316\n",
       "Clare           4  0.119695  0.322917\n",
       "Wicklow         4  0.118523  0.319588\n",
       "Tyrone          6  0.142125  0.319588\n",
       "Kilkenny        5  0.164078  0.316327\n",
       "Waterford       4  0.120318  0.313131\n",
       "Donegal         4  0.111941  0.310000\n",
       "Armagh          5  0.116446  0.303922\n",
       "Cork            4  0.103450  0.303922\n",
       "Limerick        4  0.103351  0.298077\n",
       "Wexford         4  0.106951  0.284404\n",
       "Down            3  0.060283  0.281818\n",
       "Derry           3  0.062027  0.267241\n",
       "Kerry           3  0.062037  0.258333\n",
       "Antrim          4  0.072372  0.254098"
      ]
     },
     "execution_count": 21,
     "metadata": {},
     "output_type": "execute_result"
    }
   ],
   "source": [
    "#Closeness Centrality\n",
    "close_cen = nx.closeness_centrality(G)\n",
    "nx.set_node_attributes(G, close_cen, '$C_i^C$')\n",
    "\n",
    "pd.DataFrame.from_dict(\n",
    " dict(G.nodes(data=True)),\n",
    " orient='index'\n",
    ").sort_values('$C_i^C$', ascending=False)"
   ]
  },
  {
   "cell_type": "markdown",
   "metadata": {},
   "source": [
    "According to closeness centrality, Offaly, Meath and Roscommon are seen as the 3 most central counties. "
   ]
  },
  {
   "cell_type": "code",
   "execution_count": 22,
   "metadata": {
    "scrolled": true
   },
   "outputs": [
    {
     "data": {
      "text/html": [
       "<div>\n",
       "<style scoped>\n",
       "    .dataframe tbody tr th:only-of-type {\n",
       "        vertical-align: middle;\n",
       "    }\n",
       "\n",
       "    .dataframe tbody tr th {\n",
       "        vertical-align: top;\n",
       "    }\n",
       "\n",
       "    .dataframe thead th {\n",
       "        text-align: right;\n",
       "    }\n",
       "</style>\n",
       "<table border=\"1\" class=\"dataframe\">\n",
       "  <thead>\n",
       "    <tr style=\"text-align: right;\">\n",
       "      <th></th>\n",
       "      <th>degree</th>\n",
       "      <th>$C_i^E$</th>\n",
       "      <th>$C_i^C$</th>\n",
       "      <th>$C_i^B$</th>\n",
       "    </tr>\n",
       "  </thead>\n",
       "  <tbody>\n",
       "    <tr>\n",
       "      <th>Meath</th>\n",
       "      <td>7</td>\n",
       "      <td>0.289622</td>\n",
       "      <td>0.455882</td>\n",
       "      <td>0.308805</td>\n",
       "    </tr>\n",
       "    <tr>\n",
       "      <th>Offaly</th>\n",
       "      <td>7</td>\n",
       "      <td>0.327506</td>\n",
       "      <td>0.469697</td>\n",
       "      <td>0.279330</td>\n",
       "    </tr>\n",
       "    <tr>\n",
       "      <th>Tipperary</th>\n",
       "      <td>8</td>\n",
       "      <td>0.258747</td>\n",
       "      <td>0.397436</td>\n",
       "      <td>0.222681</td>\n",
       "    </tr>\n",
       "    <tr>\n",
       "      <th>Roscommon</th>\n",
       "      <td>7</td>\n",
       "      <td>0.266327</td>\n",
       "      <td>0.413333</td>\n",
       "      <td>0.162350</td>\n",
       "    </tr>\n",
       "    <tr>\n",
       "      <th>Monaghan</th>\n",
       "      <td>6</td>\n",
       "      <td>0.209616</td>\n",
       "      <td>0.387500</td>\n",
       "      <td>0.132825</td>\n",
       "    </tr>\n",
       "    <tr>\n",
       "      <th>Leitrim</th>\n",
       "      <td>6</td>\n",
       "      <td>0.209394</td>\n",
       "      <td>0.373494</td>\n",
       "      <td>0.120198</td>\n",
       "    </tr>\n",
       "    <tr>\n",
       "      <th>Kildare</th>\n",
       "      <td>6</td>\n",
       "      <td>0.234722</td>\n",
       "      <td>0.407895</td>\n",
       "      <td>0.116354</td>\n",
       "    </tr>\n",
       "    <tr>\n",
       "      <th>Galway</th>\n",
       "      <td>5</td>\n",
       "      <td>0.205811</td>\n",
       "      <td>0.402597</td>\n",
       "      <td>0.113614</td>\n",
       "    </tr>\n",
       "    <tr>\n",
       "      <th>Louth</th>\n",
       "      <td>4</td>\n",
       "      <td>0.128441</td>\n",
       "      <td>0.356322</td>\n",
       "      <td>0.082710</td>\n",
       "    </tr>\n",
       "    <tr>\n",
       "      <th>Tyrone</th>\n",
       "      <td>6</td>\n",
       "      <td>0.142125</td>\n",
       "      <td>0.319588</td>\n",
       "      <td>0.065503</td>\n",
       "    </tr>\n",
       "    <tr>\n",
       "      <th>Cavan</th>\n",
       "      <td>6</td>\n",
       "      <td>0.250965</td>\n",
       "      <td>0.387500</td>\n",
       "      <td>0.061483</td>\n",
       "    </tr>\n",
       "    <tr>\n",
       "      <th>Donegal</th>\n",
       "      <td>4</td>\n",
       "      <td>0.111941</td>\n",
       "      <td>0.310000</td>\n",
       "      <td>0.046088</td>\n",
       "    </tr>\n",
       "    <tr>\n",
       "      <th>Laois</th>\n",
       "      <td>5</td>\n",
       "      <td>0.217561</td>\n",
       "      <td>0.382716</td>\n",
       "      <td>0.043948</td>\n",
       "    </tr>\n",
       "    <tr>\n",
       "      <th>Clare</th>\n",
       "      <td>4</td>\n",
       "      <td>0.119695</td>\n",
       "      <td>0.322917</td>\n",
       "      <td>0.042066</td>\n",
       "    </tr>\n",
       "    <tr>\n",
       "      <th>Westmeath</th>\n",
       "      <td>5</td>\n",
       "      <td>0.250843</td>\n",
       "      <td>0.407895</td>\n",
       "      <td>0.037627</td>\n",
       "    </tr>\n",
       "    <tr>\n",
       "      <th>Fermanagh</th>\n",
       "      <td>5</td>\n",
       "      <td>0.175578</td>\n",
       "      <td>0.340659</td>\n",
       "      <td>0.033258</td>\n",
       "    </tr>\n",
       "    <tr>\n",
       "      <th>Armagh</th>\n",
       "      <td>5</td>\n",
       "      <td>0.116446</td>\n",
       "      <td>0.303922</td>\n",
       "      <td>0.030069</td>\n",
       "    </tr>\n",
       "    <tr>\n",
       "      <th>Wicklow</th>\n",
       "      <td>4</td>\n",
       "      <td>0.118523</td>\n",
       "      <td>0.319588</td>\n",
       "      <td>0.026698</td>\n",
       "    </tr>\n",
       "    <tr>\n",
       "      <th>Carlow</th>\n",
       "      <td>5</td>\n",
       "      <td>0.159956</td>\n",
       "      <td>0.333333</td>\n",
       "      <td>0.025321</td>\n",
       "    </tr>\n",
       "    <tr>\n",
       "      <th>Waterford</th>\n",
       "      <td>4</td>\n",
       "      <td>0.120318</td>\n",
       "      <td>0.313131</td>\n",
       "      <td>0.022268</td>\n",
       "    </tr>\n",
       "    <tr>\n",
       "      <th>Dublin</th>\n",
       "      <td>3</td>\n",
       "      <td>0.122151</td>\n",
       "      <td>0.348315</td>\n",
       "      <td>0.022107</td>\n",
       "    </tr>\n",
       "    <tr>\n",
       "      <th>Kilkenny</th>\n",
       "      <td>5</td>\n",
       "      <td>0.164078</td>\n",
       "      <td>0.316327</td>\n",
       "      <td>0.021487</td>\n",
       "    </tr>\n",
       "    <tr>\n",
       "      <th>Cork</th>\n",
       "      <td>4</td>\n",
       "      <td>0.103450</td>\n",
       "      <td>0.303922</td>\n",
       "      <td>0.018325</td>\n",
       "    </tr>\n",
       "    <tr>\n",
       "      <th>Wexford</th>\n",
       "      <td>4</td>\n",
       "      <td>0.106951</td>\n",
       "      <td>0.284404</td>\n",
       "      <td>0.015783</td>\n",
       "    </tr>\n",
       "    <tr>\n",
       "      <th>Down</th>\n",
       "      <td>3</td>\n",
       "      <td>0.060283</td>\n",
       "      <td>0.281818</td>\n",
       "      <td>0.010060</td>\n",
       "    </tr>\n",
       "    <tr>\n",
       "      <th>Limerick</th>\n",
       "      <td>4</td>\n",
       "      <td>0.103351</td>\n",
       "      <td>0.298077</td>\n",
       "      <td>0.009236</td>\n",
       "    </tr>\n",
       "    <tr>\n",
       "      <th>Antrim</th>\n",
       "      <td>4</td>\n",
       "      <td>0.072372</td>\n",
       "      <td>0.254098</td>\n",
       "      <td>0.008530</td>\n",
       "    </tr>\n",
       "    <tr>\n",
       "      <th>Sligo</th>\n",
       "      <td>3</td>\n",
       "      <td>0.111462</td>\n",
       "      <td>0.326316</td>\n",
       "      <td>0.008005</td>\n",
       "    </tr>\n",
       "    <tr>\n",
       "      <th>Mayo</th>\n",
       "      <td>3</td>\n",
       "      <td>0.110889</td>\n",
       "      <td>0.326316</td>\n",
       "      <td>0.007204</td>\n",
       "    </tr>\n",
       "    <tr>\n",
       "      <th>Derry</th>\n",
       "      <td>3</td>\n",
       "      <td>0.062027</td>\n",
       "      <td>0.267241</td>\n",
       "      <td>0.006028</td>\n",
       "    </tr>\n",
       "    <tr>\n",
       "      <th>Longford</th>\n",
       "      <td>4</td>\n",
       "      <td>0.185741</td>\n",
       "      <td>0.352273</td>\n",
       "      <td>0.004696</td>\n",
       "    </tr>\n",
       "    <tr>\n",
       "      <th>Kerry</th>\n",
       "      <td>3</td>\n",
       "      <td>0.062037</td>\n",
       "      <td>0.258333</td>\n",
       "      <td>0.000717</td>\n",
       "    </tr>\n",
       "  </tbody>\n",
       "</table>\n",
       "</div>"
      ],
      "text/plain": [
       "           degree   $C_i^E$   $C_i^C$   $C_i^B$\n",
       "Meath           7  0.289622  0.455882  0.308805\n",
       "Offaly          7  0.327506  0.469697  0.279330\n",
       "Tipperary       8  0.258747  0.397436  0.222681\n",
       "Roscommon       7  0.266327  0.413333  0.162350\n",
       "Monaghan        6  0.209616  0.387500  0.132825\n",
       "Leitrim         6  0.209394  0.373494  0.120198\n",
       "Kildare         6  0.234722  0.407895  0.116354\n",
       "Galway          5  0.205811  0.402597  0.113614\n",
       "Louth           4  0.128441  0.356322  0.082710\n",
       "Tyrone          6  0.142125  0.319588  0.065503\n",
       "Cavan           6  0.250965  0.387500  0.061483\n",
       "Donegal         4  0.111941  0.310000  0.046088\n",
       "Laois           5  0.217561  0.382716  0.043948\n",
       "Clare           4  0.119695  0.322917  0.042066\n",
       "Westmeath       5  0.250843  0.407895  0.037627\n",
       "Fermanagh       5  0.175578  0.340659  0.033258\n",
       "Armagh          5  0.116446  0.303922  0.030069\n",
       "Wicklow         4  0.118523  0.319588  0.026698\n",
       "Carlow          5  0.159956  0.333333  0.025321\n",
       "Waterford       4  0.120318  0.313131  0.022268\n",
       "Dublin          3  0.122151  0.348315  0.022107\n",
       "Kilkenny        5  0.164078  0.316327  0.021487\n",
       "Cork            4  0.103450  0.303922  0.018325\n",
       "Wexford         4  0.106951  0.284404  0.015783\n",
       "Down            3  0.060283  0.281818  0.010060\n",
       "Limerick        4  0.103351  0.298077  0.009236\n",
       "Antrim          4  0.072372  0.254098  0.008530\n",
       "Sligo           3  0.111462  0.326316  0.008005\n",
       "Mayo            3  0.110889  0.326316  0.007204\n",
       "Derry           3  0.062027  0.267241  0.006028\n",
       "Longford        4  0.185741  0.352273  0.004696\n",
       "Kerry           3  0.062037  0.258333  0.000717"
      ]
     },
     "execution_count": 22,
     "metadata": {},
     "output_type": "execute_result"
    }
   ],
   "source": [
    "#Betweenness Centrality\n",
    "betwe_cen = nx.betweenness_centrality(G)\n",
    "nx.set_node_attributes(G, betwe_cen, '$C_i^B$')\n",
    "\n",
    "pd.DataFrame.from_dict(\n",
    " dict(G.nodes(data=True)),\n",
    " orient='index'\n",
    ").sort_values('$C_i^B$', ascending=False)"
   ]
  },
  {
   "cell_type": "markdown",
   "metadata": {},
   "source": [
    "According to betweenness centrality, Meath, Offaly and Tipperary are the 3 most central counties. "
   ]
  },
  {
   "cell_type": "markdown",
   "metadata": {},
   "source": [
    "## 3. Constructing examples."
   ]
  },
  {
   "cell_type": "markdown",
   "metadata": {},
   "source": [
    "## Tasks"
   ]
  },
  {
   "cell_type": "markdown",
   "metadata": {},
   "source": [
    "1. Give an example of a graph on 8 vertices all of which have degree centrality equal to 4. For such graph,  also compute the normalised eigenvector, closeness and betweenness centralities. What do you observe? (E.g., do you need to compute these measures for all 8 nodes?)\n",
    "1. Determine the normalised degree centrality of the nodes in some\n",
    "   random trees.  What do you observe? E.g., is there some function of the degree centrality that is constant across your examples?\n",
    "1. Give an example of a graph on $n=6,7,8$ vertices which has a _unique_ node that is highest ranked with respect to normalised degree, closeness and betweenness centrality. Is that unique node also highest ranked with respect to eigenvector centrality? Can you think of such an example for any $n$? "
   ]
  },
  {
   "cell_type": "markdown",
   "metadata": {},
   "source": [
    "### Question 1"
   ]
  },
  {
   "cell_type": "code",
   "execution_count": 7,
   "metadata": {},
   "outputs": [
    {
     "data": {
      "text/plain": [
       "{'A': 4, 'E': 4, 'F': 4, 'G': 4, 'H': 4, 'B': 4, 'C': 4, 'D': 4}"
      ]
     },
     "execution_count": 7,
     "metadata": {},
     "output_type": "execute_result"
    }
   ],
   "source": [
    "G = nx.Graph(['AE','AF','AG','AH','BE','BF','BG','BH','CE','CF','CG','CH','DE','DF','DG','DH'])\n",
    "dict(G.degree())"
   ]
  },
  {
   "cell_type": "code",
   "execution_count": 9,
   "metadata": {},
   "outputs": [
    {
     "data": {
      "image/png": "[encoded data removed]",
      "text/plain": [
       "<Figure size 432x288 with 1 Axes>"
      ]
     },
     "metadata": {},
     "output_type": "display_data"
    }
   ],
   "source": [
    "nx.draw(G)"
   ]
  },
  {
   "cell_type": "code",
   "execution_count": 10,
   "metadata": {},
   "outputs": [
    {
     "data": {
      "text/plain": [
       "{'A': 0.35355339059327373,\n",
       " 'E': 0.35355339059327373,\n",
       " 'F': 0.35355339059327373,\n",
       " 'G': 0.35355339059327373,\n",
       " 'H': 0.35355339059327373,\n",
       " 'B': 0.35355339059327373,\n",
       " 'C': 0.35355339059327373,\n",
       " 'D': 0.35355339059327373}"
      ]
     },
     "execution_count": 10,
     "metadata": {},
     "output_type": "execute_result"
    }
   ],
   "source": [
    "nx.eigenvector_centrality(G)"
   ]
  },
  {
   "cell_type": "code",
   "execution_count": 11,
   "metadata": {},
   "outputs": [
    {
     "data": {
      "text/plain": [
       "{'A': 0.7,\n",
       " 'E': 0.7,\n",
       " 'F': 0.7,\n",
       " 'G': 0.7,\n",
       " 'H': 0.7,\n",
       " 'B': 0.7,\n",
       " 'C': 0.7,\n",
       " 'D': 0.7}"
      ]
     },
     "execution_count": 11,
     "metadata": {},
     "output_type": "execute_result"
    }
   ],
   "source": [
    "nx.closeness_centrality(G)"
   ]
  },
  {
   "cell_type": "code",
   "execution_count": 36,
   "metadata": {},
   "outputs": [
    {
     "data": {
      "text/plain": [
       "{'A': 0.07142857142857142,\n",
       " 'E': 0.07142857142857142,\n",
       " 'F': 0.07142857142857142,\n",
       " 'G': 0.07142857142857142,\n",
       " 'H': 0.07142857142857142,\n",
       " 'B': 0.07142857142857142,\n",
       " 'C': 0.07142857142857142,\n",
       " 'D': 0.07142857142857142}"
      ]
     },
     "execution_count": 36,
     "metadata": {},
     "output_type": "execute_result"
    }
   ],
   "source": [
    "nx.betweenness_centrality(G)"
   ]
  },
  {
   "cell_type": "markdown",
   "metadata": {},
   "source": [
    "As every vertex is essentially the same i.e. same degree, they will all have the same values for each of the normalised eigenvector, closeness and betweenness centralities. Therefore there is no need to compute these measures for all 8 nodes as each of these nodes are seen as being equally important. "
   ]
  },
  {
   "cell_type": "markdown",
   "metadata": {},
   "source": [
    "### Question 2"
   ]
  },
  {
   "cell_type": "code",
   "execution_count": 23,
   "metadata": {},
   "outputs": [
    {
     "data": {
      "text/plain": [
       "{0: 0.25, 1: 0.25, 2: 0.5, 3: 0.25, 4: 0.75}"
      ]
     },
     "execution_count": 23,
     "metadata": {},
     "output_type": "execute_result"
    }
   ],
   "source": [
    "rt1 = nx.random_tree(5)\n",
    "rt2 = nx.random_tree(8)\n",
    "rt3 = nx.random_tree(13)\n",
    "nx.degree_centrality(rt1)"
   ]
  },
  {
   "cell_type": "code",
   "execution_count": 26,
   "metadata": {
    "scrolled": true
   },
   "outputs": [
    {
     "data": {
      "image/png": "[encoded data removed]",
      "text/plain": [
       "<Figure size 432x288 with 1 Axes>"
      ]
     },
     "metadata": {},
     "output_type": "display_data"
    }
   ],
   "source": [
    "nx.draw(rt1)"
   ]
  },
  {
   "cell_type": "code",
   "execution_count": 24,
   "metadata": {},
   "outputs": [
    {
     "data": {
      "text/plain": [
       "{0: 0.2857142857142857,\n",
       " 1: 0.14285714285714285,\n",
       " 2: 0.2857142857142857,\n",
       " 3: 0.2857142857142857,\n",
       " 4: 0.14285714285714285,\n",
       " 5: 0.2857142857142857,\n",
       " 6: 0.42857142857142855,\n",
       " 7: 0.14285714285714285}"
      ]
     },
     "execution_count": 24,
     "metadata": {},
     "output_type": "execute_result"
    }
   ],
   "source": [
    "nx.degree_centrality(rt2)"
   ]
  },
  {
   "cell_type": "code",
   "execution_count": 25,
   "metadata": {},
   "outputs": [
    {
     "data": {
      "text/plain": [
       "{0: 0.08333333333333333,\n",
       " 1: 0.16666666666666666,\n",
       " 2: 0.08333333333333333,\n",
       " 3: 0.08333333333333333,\n",
       " 4: 0.08333333333333333,\n",
       " 5: 0.3333333333333333,\n",
       " 6: 0.08333333333333333,\n",
       " 7: 0.25,\n",
       " 8: 0.08333333333333333,\n",
       " 9: 0.08333333333333333,\n",
       " 10: 0.16666666666666666,\n",
       " 11: 0.3333333333333333,\n",
       " 12: 0.16666666666666666}"
      ]
     },
     "execution_count": 25,
     "metadata": {},
     "output_type": "execute_result"
    }
   ],
   "source": [
    "nx.degree_centrality(rt3)"
   ]
  },
  {
   "cell_type": "markdown",
   "metadata": {},
   "source": [
    "For the degree centralities for each of the random trees the first two centrality values are the same in all three of the random trees. "
   ]
  },
  {
   "cell_type": "markdown",
   "metadata": {},
   "source": [
    "### Question 3"
   ]
  },
  {
   "cell_type": "code",
   "execution_count": 63,
   "metadata": {},
   "outputs": [
    {
     "name": "stdout",
     "output_type": "stream",
     "text": [
      "{'A': 0.2, 'B': 0.8, 'C': 0.2, 'D': 0.4, 'E': 0.2, 'F': 0.2} \n",
      " {'A': 0.5, 'B': 0.8333333333333334, 'C': 0.5, 'D': 0.625, 'E': 0.4166666666666667, 'F': 0.5} \n",
      " {'A': 0.0, 'B': 0.9, 'C': 0.0, 'D': 0.4, 'E': 0.0, 'F': 0.0} \n",
      " {'A': 0.32625975412584113, 'B': 0.6767657319837914, 'C': 0.32625975412584113, 'D': 0.42504554868198824, 'E': 0.2049100877734122, 'F': 0.32625975412584113}\n"
     ]
    },
    {
     "data": {
      "image/png": "[encoded data removed]",
      "text/plain": [
       "<Figure size 432x288 with 1 Axes>"
      ]
     },
     "metadata": {},
     "output_type": "display_data"
    }
   ],
   "source": [
    "#n=6\n",
    "G_6 = nx.Graph(['AB','BC','BD','DE','BF'])\n",
    "nx.draw(G_6, **opts)\n",
    "print(nx.degree_centrality(G_6),'\\n',nx.closeness_centrality(G_6),'\\n',nx.betweenness_centrality(G_6),'\\n',nx.eigenvector_centrality(G_6))"
   ]
  },
  {
   "cell_type": "markdown",
   "metadata": {},
   "source": [
    "As we can see the graph above has a unique node (B) that is highest ranked with respect to degree centrality, closeness centrality, betweenness centrality and also eigenvector centrality. "
   ]
  },
  {
   "cell_type": "code",
   "execution_count": 65,
   "metadata": {},
   "outputs": [
    {
     "name": "stdout",
     "output_type": "stream",
     "text": [
      "{'A': 0.4, 'B': 0.8, 'C': 0.4, 'D': 0.4, 'E': 0.2, 'F': 0.2} \n",
      " {'A': 0.5555555555555556, 'B': 0.8333333333333334, 'C': 0.5555555555555556, 'D': 0.625, 'E': 0.4166666666666667, 'F': 0.5} \n",
      " {'A': 0.0, 'B': 0.8, 'C': 0.0, 'D': 0.4, 'E': 0.0, 'F': 0.0} \n",
      " {'A': 0.4553174596649911, 'B': 0.6282837873958201, 'C': 0.4553174596649911, 'D': 0.3206056179344952, 'E': 0.13471613776235838, 'F': 0.26399830362946686}\n"
     ]
    },
    {
     "data": {
      "image/png": "[encoded data removed]",
      "text/plain": [
       "<Figure size 432x288 with 1 Axes>"
      ]
     },
     "metadata": {},
     "output_type": "display_data"
    }
   ],
   "source": [
    "#n=7\n",
    "G_7 = nx.Graph(['AB','BC','BD','DE','BF','BF','AC'])\n",
    "nx.draw(G_7, **opts)\n",
    "print(nx.degree_centrality(G_7),'\\n',nx.closeness_centrality(G_7),'\\n',nx.betweenness_centrality(G_7),'\\n',nx.eigenvector_centrality(G_7))"
   ]
  },
  {
   "cell_type": "markdown",
   "metadata": {},
   "source": [
    "As we can see the graph above has a unique node (B) that is highest ranked with respect to degree centrality, closeness centrality, betweenness centrality and also eigenvector centrality. "
   ]
  },
  {
   "cell_type": "code",
   "execution_count": 67,
   "metadata": {},
   "outputs": [
    {
     "name": "stdout",
     "output_type": "stream",
     "text": [
      "{'A': 0.3333333333333333, 'B': 0.6666666666666666, 'C': 0.3333333333333333, 'D': 0.5, 'E': 0.16666666666666666, 'F': 0.3333333333333333, 'G': 0.3333333333333333} \n",
      " {'A': 0.5, 'B': 0.75, 'C': 0.5, 'D': 0.6666666666666666, 'E': 0.42857142857142855, 'F': 0.5454545454545454, 'G': 0.5} \n",
      " {'A': 0.0, 'B': 0.6, 'C': 0.0, 'D': 0.43333333333333335, 'E': 0.0, 'F': 0.1, 'G': 0.06666666666666667} \n",
      " {'A': 0.3724252260262819, 'B': 0.5807504219307099, 'C': 0.3724252260262819, 'D': 0.40139150713527694, 'E': 0.15683296114928075, 'F': 0.3401130115052203, 'G': 0.28972274534029446}\n"
     ]
    },
    {
     "data": {
      "image/png": "[encoded data removed]",
      "text/plain": [
       "<Figure size 432x288 with 1 Axes>"
      ]
     },
     "metadata": {},
     "output_type": "display_data"
    }
   ],
   "source": [
    "#n=8\n",
    "G_8 = nx.Graph(['AB','BC','BD','DE','BF','BF','AC','GF','GD'])\n",
    "nx.draw(G_8, **opts)\n",
    "print(nx.degree_centrality(G_8),'\\n',nx.closeness_centrality(G_8),'\\n',nx.betweenness_centrality(G_8),'\\n',nx.eigenvector_centrality(G_8))"
   ]
  },
  {
   "cell_type": "markdown",
   "metadata": {},
   "source": [
    "As we can see the graph above has a unique node (B) that is highest ranked with respect to degree centrality, closeness centrality, betweenness centrality and also eigenvector centrality. "
   ]
  }
 ],
 "metadata": {
  "kernelspec": {
   "display_name": "Python 3",
   "language": "python",
   "name": "python3"
  },
  "language_info": {
   "codemirror_mode": {
    "name": "ipython",
    "version": 3
   },
   "file_extension": ".py",
   "mimetype": "text/x-python",
   "name": "python",
   "nbconvert_exporter": "python",
   "pygments_lexer": "ipython3",
   "version": "3.7.4"
  }
 },
 "nbformat": 4,
 "nbformat_minor": 4
}
